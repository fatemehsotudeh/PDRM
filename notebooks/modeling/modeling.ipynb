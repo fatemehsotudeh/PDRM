{
 "cells": [
  {
   "cell_type": "markdown",
   "source": [
    "## 1- import and reading data"
   ],
   "metadata": {
    "collapsed": false
   },
   "execution_count": 1
  },
  {
   "cell_type": "code",
   "execution_count": 4,
   "outputs": [],
   "source": [
    "import sys\n",
    "\n",
    "sys.path.append('../../scripts/utilities')\n",
    "from helper_functions import *\n",
    "\n",
    "sys.path.append('../../scripts/modeling')\n",
    "from modeling import *"
   ],
   "metadata": {
    "collapsed": false
   }
  },
  {
   "cell_type": "code",
   "execution_count": 5,
   "outputs": [],
   "source": [
    "base_path = '../../data/processed_data/'\n",
    "df1 = read_files('df_filling_missing_values_with_median_encoded_handle_noisy_normalized_highly_correlated.csv',\n",
    "                 base_path=base_path)[0]"
   ],
   "metadata": {
    "collapsed": false
   }
  },
  {
   "cell_type": "markdown",
   "source": [
    "## 2- Split the data into training and testing sets"
   ],
   "metadata": {
    "collapsed": false
   }
  },
  {
   "cell_type": "code",
   "execution_count": 6,
   "outputs": [],
   "source": [
    "X, y1, y2 = split_dataset(df1)"
   ],
   "metadata": {
    "collapsed": false
   }
  },
  {
   "cell_type": "markdown",
   "source": [
    "## 3- Split the data into training and testing sets"
   ],
   "metadata": {
    "collapsed": false
   }
  },
  {
   "cell_type": "code",
   "execution_count": 7,
   "outputs": [],
   "source": [
    "X_train1, X_test1, y_train1, y_test1 = split_train_test(X, y1)\n",
    "X_train2, X_test2, y_train2, y_test2 = split_train_test(X, y2)"
   ],
   "metadata": {
    "collapsed": false
   }
  },
  {
   "cell_type": "markdown",
   "source": [
    "## 4- Standardize the features"
   ],
   "metadata": {
    "collapsed": false
   }
  },
  {
   "cell_type": "code",
   "execution_count": 8,
   "outputs": [],
   "source": [
    "X_train_scaled1, X_test_scaled1 = standardize_features(X_train1, X_test1)\n",
    "X_train_scaled2, X_test_scaled2 = standardize_features(X_train2, X_test2)"
   ],
   "metadata": {
    "collapsed": false
   }
  },
  {
   "cell_type": "markdown",
   "source": [
    "## 5- Create and train the logistic regression model"
   ],
   "metadata": {
    "collapsed": false
   }
  },
  {
   "cell_type": "code",
   "execution_count": 9,
   "outputs": [],
   "source": [
    "model_target1 = train_logistic_regression(X_train_scaled1, y_train1)\n",
    "model_target2 = train_logistic_regression(X_train_scaled2, y_train2)"
   ],
   "metadata": {
    "collapsed": false
   }
  },
  {
   "cell_type": "markdown",
   "source": [
    "## 6- Make predictions on the test set"
   ],
   "metadata": {
    "collapsed": false
   }
  },
  {
   "cell_type": "code",
   "execution_count": 10,
   "outputs": [],
   "source": [
    "y_pred1 = predict(model_target1, X_test_scaled1)\n",
    "y_pred2 = predict(model_target2, X_test_scaled2)"
   ],
   "metadata": {
    "collapsed": false
   }
  },
  {
   "cell_type": "markdown",
   "source": [
    "## 7- evaluate models"
   ],
   "metadata": {
    "collapsed": false
   }
  },
  {
   "cell_type": "code",
   "execution_count": 15,
   "outputs": [
    {
     "data": {
      "text/plain": "(0.9375921375921376, 0.9115479115479116)"
     },
     "execution_count": 15,
     "metadata": {},
     "output_type": "execute_result"
    }
   ],
   "source": [
    "# accuracy_target1, classification_rep_target1, conf_matrix_target1, precision_target1, recall_target1, f1_score_target1 = evaluate_model(\n",
    "#     model_target1, X_test1, y_test1)\n",
    "accuracy_target1 = accuracy_score(y_test1, y_pred1)\n",
    "conf_matrix_target1 = confusion_matrix(y_test1, y_pred1)\n",
    "classification_rep_target1 = classification_report(y_test1, y_pred1)\n",
    "\n",
    "accuracy_target2 = accuracy_score(y_test2, y_pred2)\n",
    "conf_matrix_target2 = confusion_matrix(y_test2, y_pred2)\n",
    "classification_rep_target2 = classification_report(y_test2, y_pred2)\n",
    "\n",
    "accuracy_target1, accuracy_target2"
   ],
   "metadata": {
    "collapsed": false
   }
  },
  {
   "cell_type": "code",
   "execution_count": null,
   "outputs": [],
   "source": [],
   "metadata": {
    "collapsed": false
   }
  }
 ],
 "metadata": {
  "kernelspec": {
   "display_name": "Python 3",
   "language": "python",
   "name": "python3"
  },
  "language_info": {
   "codemirror_mode": {
    "name": "ipython",
    "version": 2
   },
   "file_extension": ".py",
   "mimetype": "text/x-python",
   "name": "python",
   "nbconvert_exporter": "python",
   "pygments_lexer": "ipython2",
   "version": "2.7.6"
  }
 },
 "nbformat": 4,
 "nbformat_minor": 0
}
