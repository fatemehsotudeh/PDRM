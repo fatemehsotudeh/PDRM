{
 "cells": [
  {
   "cell_type": "markdown",
   "source": [
    "**The primary objective of this data integration process is to combine and merge datasets based on a  column named SEQN. By integrating the data, we aim to create a comprehensive dataset that includes information from multiple sources.**"
   ],
   "metadata": {
    "collapsed": false
   }
  },
  {
   "cell_type": "markdown",
   "source": [
    "## 1- import and reading data"
   ],
   "metadata": {
    "collapsed": false
   }
  },
  {
   "cell_type": "code",
   "execution_count": 1,
   "outputs": [],
   "source": [
    "import sys\n",
    "sys.path.append('../../../scripts/')\n",
    "from utilities.helper_functions import *\n",
    "from data_preprocessing.data_cleaning import *\n",
    "from data_preprocessing.data_integration import *"
   ],
   "metadata": {
    "collapsed": false
   }
  },
  {
   "cell_type": "code",
   "execution_count": 2,
   "outputs": [],
   "source": [
    "base_path = '../../../data/raw_data'\n",
    "data_frames= read_files('demographic.csv', 'diet.csv', 'examination.csv', 'labs.csv','questionnaire.csv', base_path=base_path)"
   ],
   "metadata": {
    "collapsed": false
   }
  },
  {
   "cell_type": "markdown",
   "source": [
    "## 2-  join  dataframes based on same column"
   ],
   "metadata": {
    "collapsed": false
   }
  },
  {
   "cell_type": "code",
   "execution_count": 3,
   "outputs": [
    {
     "data": {
      "text/plain": "    SEQN  SDDSRVYR  RIDSTATR  RIAGENDR  RIDAGEYR  RIDAGEMN  RIDRETH1  \\\n0  73557         8         2         1        69       NaN         4   \n1  73558         8         2         1        54       NaN         3   \n2  73559         8         2         1        72       NaN         3   \n3  73560         8         2         1         9       NaN         3   \n4  73561         8         2         2        73       NaN         3   \n\n   RIDRETH3  RIDEXMON  RIDEXAGM  ...  URXUTU  URDUTULC  URXUUR  URDUURLC  \\\n0         4       1.0       NaN  ...     NaN       NaN     NaN       NaN   \n1         3       1.0       NaN  ...     NaN       NaN     NaN       NaN   \n2         3       2.0       NaN  ...     NaN       NaN     NaN       NaN   \n3         3       1.0     119.0  ...   0.238       0.0  0.0071       0.0   \n4         3       1.0       NaN  ...     NaN       NaN     NaN       NaN   \n\n   URXPREG  URXUAS  LBDB12  LBDB12SI  MCQ160L  MCQ220  \n0      NaN     NaN   524.0     386.7      2.0     2.0  \n1      NaN     NaN   507.0     374.2      2.0     2.0  \n2      NaN     NaN   732.0     540.2      2.0     1.0  \n3      NaN    3.83     NaN       NaN      NaN     NaN  \n4      NaN     NaN   225.0     166.1      2.0     2.0  \n\n[5 rows x 862 columns]",
      "text/html": "<div>\n<style scoped>\n    .dataframe tbody tr th:only-of-type {\n        vertical-align: middle;\n    }\n\n    .dataframe tbody tr th {\n        vertical-align: top;\n    }\n\n    .dataframe thead th {\n        text-align: right;\n    }\n</style>\n<table border=\"1\" class=\"dataframe\">\n  <thead>\n    <tr style=\"text-align: right;\">\n      <th></th>\n      <th>SEQN</th>\n      <th>SDDSRVYR</th>\n      <th>RIDSTATR</th>\n      <th>RIAGENDR</th>\n      <th>RIDAGEYR</th>\n      <th>RIDAGEMN</th>\n      <th>RIDRETH1</th>\n      <th>RIDRETH3</th>\n      <th>RIDEXMON</th>\n      <th>RIDEXAGM</th>\n      <th>...</th>\n      <th>URXUTU</th>\n      <th>URDUTULC</th>\n      <th>URXUUR</th>\n      <th>URDUURLC</th>\n      <th>URXPREG</th>\n      <th>URXUAS</th>\n      <th>LBDB12</th>\n      <th>LBDB12SI</th>\n      <th>MCQ160L</th>\n      <th>MCQ220</th>\n    </tr>\n  </thead>\n  <tbody>\n    <tr>\n      <th>0</th>\n      <td>73557</td>\n      <td>8</td>\n      <td>2</td>\n      <td>1</td>\n      <td>69</td>\n      <td>NaN</td>\n      <td>4</td>\n      <td>4</td>\n      <td>1.0</td>\n      <td>NaN</td>\n      <td>...</td>\n      <td>NaN</td>\n      <td>NaN</td>\n      <td>NaN</td>\n      <td>NaN</td>\n      <td>NaN</td>\n      <td>NaN</td>\n      <td>524.0</td>\n      <td>386.7</td>\n      <td>2.0</td>\n      <td>2.0</td>\n    </tr>\n    <tr>\n      <th>1</th>\n      <td>73558</td>\n      <td>8</td>\n      <td>2</td>\n      <td>1</td>\n      <td>54</td>\n      <td>NaN</td>\n      <td>3</td>\n      <td>3</td>\n      <td>1.0</td>\n      <td>NaN</td>\n      <td>...</td>\n      <td>NaN</td>\n      <td>NaN</td>\n      <td>NaN</td>\n      <td>NaN</td>\n      <td>NaN</td>\n      <td>NaN</td>\n      <td>507.0</td>\n      <td>374.2</td>\n      <td>2.0</td>\n      <td>2.0</td>\n    </tr>\n    <tr>\n      <th>2</th>\n      <td>73559</td>\n      <td>8</td>\n      <td>2</td>\n      <td>1</td>\n      <td>72</td>\n      <td>NaN</td>\n      <td>3</td>\n      <td>3</td>\n      <td>2.0</td>\n      <td>NaN</td>\n      <td>...</td>\n      <td>NaN</td>\n      <td>NaN</td>\n      <td>NaN</td>\n      <td>NaN</td>\n      <td>NaN</td>\n      <td>NaN</td>\n      <td>732.0</td>\n      <td>540.2</td>\n      <td>2.0</td>\n      <td>1.0</td>\n    </tr>\n    <tr>\n      <th>3</th>\n      <td>73560</td>\n      <td>8</td>\n      <td>2</td>\n      <td>1</td>\n      <td>9</td>\n      <td>NaN</td>\n      <td>3</td>\n      <td>3</td>\n      <td>1.0</td>\n      <td>119.0</td>\n      <td>...</td>\n      <td>0.238</td>\n      <td>0.0</td>\n      <td>0.0071</td>\n      <td>0.0</td>\n      <td>NaN</td>\n      <td>3.83</td>\n      <td>NaN</td>\n      <td>NaN</td>\n      <td>NaN</td>\n      <td>NaN</td>\n    </tr>\n    <tr>\n      <th>4</th>\n      <td>73561</td>\n      <td>8</td>\n      <td>2</td>\n      <td>2</td>\n      <td>73</td>\n      <td>NaN</td>\n      <td>3</td>\n      <td>3</td>\n      <td>1.0</td>\n      <td>NaN</td>\n      <td>...</td>\n      <td>NaN</td>\n      <td>NaN</td>\n      <td>NaN</td>\n      <td>NaN</td>\n      <td>NaN</td>\n      <td>NaN</td>\n      <td>225.0</td>\n      <td>166.1</td>\n      <td>2.0</td>\n      <td>2.0</td>\n    </tr>\n  </tbody>\n</table>\n<p>5 rows × 862 columns</p>\n</div>"
     },
     "execution_count": 3,
     "metadata": {},
     "output_type": "execute_result"
    }
   ],
   "source": [
    "raw_dfs_merged = merge_dataframes(data_frames, \"SEQN\", 'outer')\n",
    "raw_dfs_merged.head(5)"
   ],
   "metadata": {
    "collapsed": false
   }
  },
  {
   "cell_type": "markdown",
   "source": [
    "## 3-  save merged dataframe"
   ],
   "metadata": {
    "collapsed": false
   }
  },
  {
   "cell_type": "code",
   "execution_count": 4,
   "outputs": [],
   "source": [
    "save_files([raw_dfs_merged],'raw_dfs_merged.csv', base_path=base_path)"
   ],
   "metadata": {
    "collapsed": false
   }
  }
 ],
 "metadata": {
  "kernelspec": {
   "display_name": "Python 3",
   "language": "python",
   "name": "python3"
  },
  "language_info": {
   "codemirror_mode": {
    "name": "ipython",
    "version": 2
   },
   "file_extension": ".py",
   "mimetype": "text/x-python",
   "name": "python",
   "nbconvert_exporter": "python",
   "pygments_lexer": "ipython2",
   "version": "2.7.6"
  }
 },
 "nbformat": 4,
 "nbformat_minor": 0
}
