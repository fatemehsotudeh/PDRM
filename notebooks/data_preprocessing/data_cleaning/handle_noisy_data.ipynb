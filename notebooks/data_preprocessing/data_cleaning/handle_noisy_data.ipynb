{
 "cells": [
  {
   "cell_type": "markdown",
   "source": [
    "**The objective of this data cleaning process is to address and resolve issues related to duplicate records and constant columns in the dataset. By identifying and handling these elements, we aim to improve the quality and reliability of the data for subsequent analysis.**\n",
    "\n",
    "**1. Handling Duplicate Records:**\n",
    "-   Duplicate records were identified by comparing all rows in the dataset and identifying instances where all values in a row are identical to those in another row.\n",
    "Duplicate records were dropped, retaining only the first occurrence.\n",
    "By removing duplicate records, we ensure that each observation in the dataset is unique, preventing potential biases in subsequent analyses.\n",
    "\n",
    "**2. Handling Constant Columns:**\n",
    "- Constant columns were identified by checking if a column has the same value across all rows in the dataset.\n",
    "Columns with constant values were dropped from the dataset."
   ],
   "metadata": {
    "collapsed": false
   }
  },
  {
   "cell_type": "markdown",
   "source": [
    "## 1- import and reading data"
   ],
   "metadata": {
    "collapsed": false
   }
  },
  {
   "cell_type": "code",
   "execution_count": 1,
   "outputs": [],
   "source": [
    "import sys\n",
    "sys.path.append('../../../scripts/utilities')\n",
    "from helper_functions import *\n",
    "sys.path.append('../../../scripts/data_preprocessing')\n",
    "from data_cleaning import *"
   ],
   "metadata": {
    "collapsed": false
   }
  },
  {
   "cell_type": "code",
   "execution_count": 2,
   "outputs": [],
   "source": [
    "base_path = '../../../data/processed_data/'\n",
    "df1 = read_files('df_filling_missing_values_with_median_encoded.csv', base_path=base_path)[0]"
   ],
   "metadata": {
    "collapsed": false
   }
  },
  {
   "cell_type": "markdown",
   "source": [
    "## 2- handle constant columns"
   ],
   "metadata": {
    "collapsed": false
   }
  },
  {
   "cell_type": "code",
   "execution_count": 3,
   "outputs": [
    {
     "data": {
      "text/plain": "(10175, 372)"
     },
     "execution_count": 3,
     "metadata": {},
     "output_type": "execute_result"
    }
   ],
   "source": [
    "df2 = drop_constant_columns(df1)\n",
    "df2.shape"
   ],
   "metadata": {
    "collapsed": false
   }
  },
  {
   "cell_type": "markdown",
   "source": [
    "## 3- handle duplicate records"
   ],
   "metadata": {
    "collapsed": false
   }
  },
  {
   "cell_type": "code",
   "execution_count": 4,
   "outputs": [
    {
     "data": {
      "text/plain": "(10175, 372)"
     },
     "execution_count": 4,
     "metadata": {},
     "output_type": "execute_result"
    }
   ],
   "source": [
    "df3 = drop_duplicates(df2)\n",
    "df3.shape"
   ],
   "metadata": {
    "collapsed": false
   }
  },
  {
   "cell_type": "code",
   "execution_count": 5,
   "outputs": [
    {
     "data": {
      "text/plain": "    SEQN  RIDSTATR  RIAGENDR  RIDAGEYR  RIDRETH1  RIDRETH3  RIDEXMON  \\\n0  73557       2.0       1.0      69.0       4.0       4.0       1.0   \n1  73558       2.0       1.0      54.0       3.0       3.0       1.0   \n2  73559       2.0       1.0      72.0       3.0       3.0       2.0   \n3  73560       2.0       1.0      26.0       3.0       3.0       1.0   \n4  73561       2.0       2.0      73.0       3.0       3.0       1.0   \n\n   DMQMILIZ  DMDBORN4  DMDCITZN  ...  LBXBSE  LBDBSESI  LBXBMN  LBDBMNSI  \\\n0       1.0       1.0       1.0  ...  186.50      2.37    9.89    180.00   \n1       2.0       1.0       1.0  ...  204.73      2.60    8.15    148.33   \n2       1.0       1.0       1.0  ...  209.64      2.66    9.57    174.17   \n3       2.0       1.0       1.0  ...  169.82      2.16   13.07    237.87   \n4       2.0       1.0       1.0  ...  186.50      2.37    9.89    180.00   \n\n   URXVOL1  URDFLOW1  LBDB12  LBDB12SI  MCQ160L  MCQ220  \n0     87.0     0.821   524.0     386.7      2.0     2.0  \n1     90.0     1.636   507.0     374.2      2.0     2.0  \n2     66.0     0.647   732.0     540.2      2.0     1.0  \n3     61.0     0.575   514.0     379.3      0.0     0.0  \n4      5.0     0.109   225.0     166.1      2.0     2.0  \n\n[5 rows x 372 columns]",
      "text/html": "<div>\n<style scoped>\n    .dataframe tbody tr th:only-of-type {\n        vertical-align: middle;\n    }\n\n    .dataframe tbody tr th {\n        vertical-align: top;\n    }\n\n    .dataframe thead th {\n        text-align: right;\n    }\n</style>\n<table border=\"1\" class=\"dataframe\">\n  <thead>\n    <tr style=\"text-align: right;\">\n      <th></th>\n      <th>SEQN</th>\n      <th>RIDSTATR</th>\n      <th>RIAGENDR</th>\n      <th>RIDAGEYR</th>\n      <th>RIDRETH1</th>\n      <th>RIDRETH3</th>\n      <th>RIDEXMON</th>\n      <th>DMQMILIZ</th>\n      <th>DMDBORN4</th>\n      <th>DMDCITZN</th>\n      <th>...</th>\n      <th>LBXBSE</th>\n      <th>LBDBSESI</th>\n      <th>LBXBMN</th>\n      <th>LBDBMNSI</th>\n      <th>URXVOL1</th>\n      <th>URDFLOW1</th>\n      <th>LBDB12</th>\n      <th>LBDB12SI</th>\n      <th>MCQ160L</th>\n      <th>MCQ220</th>\n    </tr>\n  </thead>\n  <tbody>\n    <tr>\n      <th>0</th>\n      <td>73557</td>\n      <td>2.0</td>\n      <td>1.0</td>\n      <td>69.0</td>\n      <td>4.0</td>\n      <td>4.0</td>\n      <td>1.0</td>\n      <td>1.0</td>\n      <td>1.0</td>\n      <td>1.0</td>\n      <td>...</td>\n      <td>186.50</td>\n      <td>2.37</td>\n      <td>9.89</td>\n      <td>180.00</td>\n      <td>87.0</td>\n      <td>0.821</td>\n      <td>524.0</td>\n      <td>386.7</td>\n      <td>2.0</td>\n      <td>2.0</td>\n    </tr>\n    <tr>\n      <th>1</th>\n      <td>73558</td>\n      <td>2.0</td>\n      <td>1.0</td>\n      <td>54.0</td>\n      <td>3.0</td>\n      <td>3.0</td>\n      <td>1.0</td>\n      <td>2.0</td>\n      <td>1.0</td>\n      <td>1.0</td>\n      <td>...</td>\n      <td>204.73</td>\n      <td>2.60</td>\n      <td>8.15</td>\n      <td>148.33</td>\n      <td>90.0</td>\n      <td>1.636</td>\n      <td>507.0</td>\n      <td>374.2</td>\n      <td>2.0</td>\n      <td>2.0</td>\n    </tr>\n    <tr>\n      <th>2</th>\n      <td>73559</td>\n      <td>2.0</td>\n      <td>1.0</td>\n      <td>72.0</td>\n      <td>3.0</td>\n      <td>3.0</td>\n      <td>2.0</td>\n      <td>1.0</td>\n      <td>1.0</td>\n      <td>1.0</td>\n      <td>...</td>\n      <td>209.64</td>\n      <td>2.66</td>\n      <td>9.57</td>\n      <td>174.17</td>\n      <td>66.0</td>\n      <td>0.647</td>\n      <td>732.0</td>\n      <td>540.2</td>\n      <td>2.0</td>\n      <td>1.0</td>\n    </tr>\n    <tr>\n      <th>3</th>\n      <td>73560</td>\n      <td>2.0</td>\n      <td>1.0</td>\n      <td>26.0</td>\n      <td>3.0</td>\n      <td>3.0</td>\n      <td>1.0</td>\n      <td>2.0</td>\n      <td>1.0</td>\n      <td>1.0</td>\n      <td>...</td>\n      <td>169.82</td>\n      <td>2.16</td>\n      <td>13.07</td>\n      <td>237.87</td>\n      <td>61.0</td>\n      <td>0.575</td>\n      <td>514.0</td>\n      <td>379.3</td>\n      <td>0.0</td>\n      <td>0.0</td>\n    </tr>\n    <tr>\n      <th>4</th>\n      <td>73561</td>\n      <td>2.0</td>\n      <td>2.0</td>\n      <td>73.0</td>\n      <td>3.0</td>\n      <td>3.0</td>\n      <td>1.0</td>\n      <td>2.0</td>\n      <td>1.0</td>\n      <td>1.0</td>\n      <td>...</td>\n      <td>186.50</td>\n      <td>2.37</td>\n      <td>9.89</td>\n      <td>180.00</td>\n      <td>5.0</td>\n      <td>0.109</td>\n      <td>225.0</td>\n      <td>166.1</td>\n      <td>2.0</td>\n      <td>2.0</td>\n    </tr>\n  </tbody>\n</table>\n<p>5 rows × 372 columns</p>\n</div>"
     },
     "execution_count": 5,
     "metadata": {},
     "output_type": "execute_result"
    }
   ],
   "source": [
    "df3.head()"
   ],
   "metadata": {
    "collapsed": false
   }
  },
  {
   "cell_type": "markdown",
   "source": [
    "## 4- save dataframe"
   ],
   "metadata": {
    "collapsed": false
   },
   "outputs": [],
   "execution_count": 4
  },
  {
   "cell_type": "code",
   "execution_count": 6,
   "outputs": [],
   "source": [
    "save_files([df3], 'df_filling_missing_values_with_median_encoded_handle_noisy.csv', base_path='../../../data/processed_data/')"
   ],
   "metadata": {
    "collapsed": false
   }
  },
  {
   "cell_type": "code",
   "execution_count": null,
   "outputs": [],
   "source": [],
   "metadata": {
    "collapsed": false
   }
  }
 ],
 "metadata": {
  "kernelspec": {
   "display_name": "Python 3",
   "language": "python",
   "name": "python3"
  },
  "language_info": {
   "codemirror_mode": {
    "name": "ipython",
    "version": 2
   },
   "file_extension": ".py",
   "mimetype": "text/x-python",
   "name": "python",
   "nbconvert_exporter": "python",
   "pygments_lexer": "ipython2",
   "version": "2.7.6"
  }
 },
 "nbformat": 4,
 "nbformat_minor": 0
}
