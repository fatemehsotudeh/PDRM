{
 "cells": [
  {
   "cell_type": "markdown",
   "source": [
    "## 1- import and reading data\n"
   ],
   "metadata": {
    "collapsed": false
   }
  },
  {
   "cell_type": "code",
   "execution_count": 43,
   "outputs": [],
   "source": [
    "import sys\n",
    "\n",
    "sys.path.append('../../../scripts/')\n",
    "from utilities.helper_functions import read_files\n",
    "from data_preprocessing.data_cleaning import *"
   ],
   "metadata": {
    "collapsed": false
   }
  },
  {
   "cell_type": "code",
   "execution_count": 44,
   "outputs": [],
   "source": [
    "base_path='../../../data/raw_data/'\n",
    "df_demographic, df_diet, df_examination, df_labs, df_questionnaire = \\\n",
    "    read_files('demographic.csv', 'diet.csv', 'examination.csv', 'labs.csv',\n",
    "               'questionnaire.csv',base_path=base_path)"
   ],
   "metadata": {
    "collapsed": false
   }
  },
  {
   "cell_type": "markdown",
   "source": [
    "## 2- handle missing values"
   ],
   "metadata": {
    "collapsed": false
   }
  },
  {
   "cell_type": "markdown",
   "source": [
    "**2.1**  Deleting the entire column with many missing value(M)\n",
    "**2.2**  Imputing the Missing Value\n"
   ],
   "metadata": {
    "collapsed": false
   }
  },
  {
   "cell_type": "markdown",
   "source": [
    "<span style=\"color:orange\">2.1- Deleting the entire column </span>\n",
    ">when:\n",
    " >>1 - missing value in type Missing At Random (MAR) or Missing Completely At Random (MCAR)\n",
    " >>2- column has many missing value"
   ],
   "metadata": {
    "collapsed": false
   }
  },
  {
   "cell_type": "code",
   "execution_count": 45,
   "outputs": [
    {
     "data": {
      "text/plain": "(10175, 41)"
     },
     "execution_count": 45,
     "metadata": {},
     "output_type": "execute_result"
    }
   ],
   "source": [
    "threshold_percentage = 50\n",
    "df_demographic_columns_to_drop = extract_columns_by_threshold(df_demographic, threshold_percentage)\n",
    "df_demographic=df_demographic.drop(columns=df_demographic_columns_to_drop)\n",
    "df_demographic.shape"
   ],
   "metadata": {
    "collapsed": false
   }
  },
  {
   "cell_type": "code",
   "execution_count": 46,
   "outputs": [
    {
     "data": {
      "text/plain": "(9813, 112)"
     },
     "execution_count": 46,
     "metadata": {},
     "output_type": "execute_result"
    }
   ],
   "source": [
    "df_diet_columns_to_drop = extract_columns_by_threshold(df_diet, threshold_percentage)\n",
    "df_diet=df_diet.drop(columns=df_diet_columns_to_drop)\n",
    "df_diet.shape"
   ],
   "metadata": {
    "collapsed": false
   }
  },
  {
   "cell_type": "code",
   "execution_count": 47,
   "outputs": [
    {
     "data": {
      "text/plain": "(9813, 113)"
     },
     "execution_count": 47,
     "metadata": {},
     "output_type": "execute_result"
    }
   ],
   "source": [
    "df_examination_columns_to_drop = extract_columns_by_threshold(df_examination, threshold_percentage)\n",
    "df_examination=df_examination.drop(columns=df_examination_columns_to_drop)\n",
    "df_examination.shape"
   ],
   "metadata": {
    "collapsed": false
   }
  },
  {
   "cell_type": "code",
   "execution_count": 48,
   "outputs": [
    {
     "data": {
      "text/plain": "(9813, 152)"
     },
     "execution_count": 48,
     "metadata": {},
     "output_type": "execute_result"
    }
   ],
   "source": [
    "df_labs_columns_to_drop = extract_columns_by_threshold(df_labs, threshold_percentage)\n",
    "df_labs=df_labs.drop(columns=df_labs_columns_to_drop)\n",
    "df_labs.shape"
   ],
   "metadata": {
    "collapsed": false
   }
  },
  {
   "cell_type": "code",
   "execution_count": 49,
   "outputs": [
    {
     "data": {
      "text/plain": "(10175, 3)"
     },
     "execution_count": 49,
     "metadata": {},
     "output_type": "execute_result"
    }
   ],
   "source": [
    "df_questionnaire_columns_to_drop = extract_columns_by_threshold(df_questionnaire, threshold_percentage)\n",
    "df_questionnaire=df_questionnaire.drop(columns=df_questionnaire_columns_to_drop)\n",
    "df_questionnaire.shape"
   ],
   "metadata": {
    "collapsed": false
   }
  },
  {
   "cell_type": "markdown",
   "source": [
    "<span style=\"color:orange\">2.2- Imputing the Missing Value </span>\n",
    ">when:\n",
    " >>1 - missing value in type Missing Not At Random (MNAR) in this case (In the cells that used compounds 7 and 9, they express this type)\n",
    " >>2- Cells that were not removed by applying threshold in the previous step"
   ],
   "metadata": {
    "collapsed": false
   }
  },
  {
   "cell_type": "code",
   "execution_count": 50,
   "outputs": [
    {
     "name": "stdout",
     "output_type": "stream",
     "text": [
      "Original DataFrame:\n",
      "   Patient_ID  Compound_7  Compound_9       Usability\n",
      "0           1           7           9      acceptable\n",
      "1           2          77          99  not_acceptable\n",
      "2           3         777         999      acceptable\n",
      "3           4           8         888  not_acceptable\n",
      "4           5           9         777      acceptable\n",
      "\n",
      "Cells with a repeating sequence of 7s in 'Compound_7':\n",
      "   Patient_ID  Compound_7  Compound_9       Usability\n",
      "0           1           7           9      acceptable\n",
      "1           2          77          99  not_acceptable\n",
      "2           3         777         999      acceptable\n",
      "4           5           9         777      acceptable\n",
      "\n",
      "Cells with a repeating sequence of 9s in 'Compound_9':\n",
      "   Patient_ID  Compound_7  Compound_9       Usability\n",
      "0           1           7           9      acceptable\n",
      "1           2          77          99  not_acceptable\n",
      "2           3         777         999      acceptable\n",
      "4           5           9         777      acceptable\n"
     ]
    }
   ],
   "source": [
    "import pandas as pd\n",
    "import re\n",
    "# Creating a sample DataFrame\n",
    "data = {\n",
    "    'Patient_ID': [1, 2, 3, 4, 5],\n",
    "    'Compound_7': [7, 77, 777, 8, 9],\n",
    "    'Compound_9': [9, 99, 999, 888, 777],\n",
    "    'Usability': ['acceptable', 'not_acceptable', 'acceptable', 'not_acceptable', 'acceptable']\n",
    "}\n",
    "\n",
    "df = pd.DataFrame(data)\n",
    "\n",
    "# Define a function to check if a value is a sequence of repeating 7s or 9s\n",
    "def is_repeating_sequence(value):\n",
    "    return bool(re.match(r'^(7+|9+)$', str(value)))\n",
    "\n",
    "# Apply the function to each cell in 'Compound_7' and 'Compound_9'\n",
    "compound_7_cells = df[df['Compound_7'].apply(is_repeating_sequence)]\n",
    "compound_9_cells = df[df['Compound_9'].apply(is_repeating_sequence)]\n",
    "\n",
    "# Display the original DataFrame\n",
    "print(\"Original DataFrame:\")\n",
    "print(df)\n",
    "\n",
    "# Display cells with a repeating sequence of 7s in 'Compound_7'\n",
    "print(\"\\nCells with a repeating sequence of 7s in 'Compound_7':\")\n",
    "print(compound_7_cells)\n",
    "\n",
    "# Display cells with a repeating sequence of 9s in 'Compound_9'\n",
    "print(\"\\nCells with a repeating sequence of 9s in 'Compound_9':\")\n",
    "print(compound_9_cells)"
   ],
   "metadata": {
    "collapsed": false
   }
  },
  {
   "cell_type": "code",
   "execution_count": 50,
   "outputs": [],
   "source": [],
   "metadata": {
    "collapsed": false
   }
  },
  {
   "cell_type": "code",
   "execution_count": 50,
   "outputs": [],
   "source": [],
   "metadata": {
    "collapsed": false
   }
  },
  {
   "cell_type": "code",
   "execution_count": null,
   "outputs": [],
   "source": [],
   "metadata": {
    "collapsed": false
   }
  }
 ],
 "metadata": {
  "kernelspec": {
   "display_name": "Python 3",
   "language": "python",
   "name": "python3"
  },
  "language_info": {
   "codemirror_mode": {
    "name": "ipython",
    "version": 2
   },
   "file_extension": ".py",
   "mimetype": "text/x-python",
   "name": "python",
   "nbconvert_exporter": "python",
   "pygments_lexer": "ipython2",
   "version": "2.7.6"
  }
 },
 "nbformat": 4,
 "nbformat_minor": 0
}
