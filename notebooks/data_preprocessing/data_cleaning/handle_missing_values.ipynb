{
 "cells": [
  {
   "cell_type": "markdown",
   "source": [
    "## 1- import and reading data\n"
   ],
   "metadata": {
    "collapsed": false
   }
  },
  {
   "cell_type": "code",
   "execution_count": 1,
   "outputs": [],
   "source": [
    "import sys\n",
    "sys.path.append('../../../scripts/utilities')\n",
    "from helper_functions import *\n",
    "sys.path.append('../../../scripts/data_preprocessing')\n",
    "from data_cleaning import *"
   ],
   "metadata": {
    "collapsed": false
   }
  },
  {
   "cell_type": "code",
   "execution_count": 2,
   "outputs": [],
   "source": [
    "base_path = '../../../data/raw_data/'\n",
    "raw_dfs_merged = read_files('raw_dfs_merged.csv', base_path=base_path)[0]"
   ],
   "metadata": {
    "collapsed": false
   }
  },
  {
   "cell_type": "markdown",
   "source": [
    "## 2- handle missing values"
   ],
   "metadata": {
    "collapsed": false
   }
  },
  {
   "cell_type": "markdown",
   "source": [
    "**2.1**  Deleting the entire column with many missing value\n",
    "**2.2**  Imputing the Missing Value\n"
   ],
   "metadata": {
    "collapsed": false
   }
  },
  {
   "cell_type": "markdown",
   "source": [
    "<span style=\"color:orange\">2.1- Deleting the entire column </span>\n",
    ">when:\n",
    " >>1 - missing value in type Missing At Random (MAR) or Missing Completely At Random (MCAR)\n",
    " >>2- column has many missing value"
   ],
   "metadata": {
    "collapsed": false
   }
  },
  {
   "cell_type": "code",
   "execution_count": 3,
   "outputs": [
    {
     "data": {
      "text/plain": "(10175, 377)"
     },
     "execution_count": 3,
     "metadata": {},
     "output_type": "execute_result"
    }
   ],
   "source": [
    "threshold_percentage = 50\n",
    "raw_dfs_merged_columns_to_drop = extract_columns_by_threshold(raw_dfs_merged, threshold_percentage)\n",
    "raw_dfs_merged = raw_dfs_merged.drop(columns=raw_dfs_merged_columns_to_drop)\n",
    "raw_dfs_merged.shape"
   ],
   "metadata": {
    "collapsed": false
   }
  },
  {
   "cell_type": "markdown",
   "source": [
    "<span style=\"color:orange\">2.2- Imputing the Missing Value </span>\n",
    ">when:\n",
    " >>1 - missing value in type Missing Not At Random (MNAR) in this case (In the cells that used compounds 7 and 9, they express this type)\n",
    " >>2- Cells that were not removed by applying threshold in the previous step"
   ],
   "metadata": {
    "collapsed": false
   }
  },
  {
   "cell_type": "markdown",
   "source": [
    "__2.2.1 imputing by median(numerical features) and mod(categorical features)__"
   ],
   "metadata": {
    "collapsed": false
   }
  },
  {
   "cell_type": "code",
   "execution_count": 4,
   "outputs": [
    {
     "data": {
      "text/plain": "['SDDSRVYR',\n 'RIDSTATR',\n 'RIAGENDR',\n 'RIDAGEYR',\n 'RIDRETH1',\n 'RIDRETH3',\n 'RIDEXMON',\n 'DMQMILIZ',\n 'DMDBORN4',\n 'DMDCITZN']"
     },
     "execution_count": 4,
     "metadata": {},
     "output_type": "execute_result"
    }
   ],
   "source": [
    "numerical_columns = extract_numerical_columns(raw_dfs_merged)\n",
    "numerical_features=[column for column in numerical_columns if column not in ['MCQ160L','MCQ220','SEQN']]\n",
    "numerical_features[:10]"
   ],
   "metadata": {
    "collapsed": false
   }
  },
  {
   "cell_type": "code",
   "execution_count": 5,
   "outputs": [
    {
     "data": {
      "text/plain": "['OHX02CTC',\n 'OHX03CTC',\n 'OHX04CTC',\n 'OHX05CTC',\n 'OHX06CTC',\n 'OHX07CTC',\n 'OHX08CTC',\n 'OHX09CTC',\n 'OHX10CTC',\n 'OHX11CTC']"
     },
     "execution_count": 5,
     "metadata": {},
     "output_type": "execute_result"
    }
   ],
   "source": [
    "categorical_columns = extract_categorical_columns(raw_dfs_merged)\n",
    "categorical_columns[:10]"
   ],
   "metadata": {
    "collapsed": false
   }
  },
  {
   "cell_type": "markdown",
   "source": [
    "-- imputing numerical columns"
   ],
   "metadata": {
    "collapsed": false
   }
  },
  {
   "cell_type": "code",
   "execution_count": 7,
   "outputs": [
    {
     "data": {
      "text/plain": "     SEQN  SDDSRVYR  RIDSTATR  RIAGENDR  RIDAGEYR  RIDRETH1  RIDRETH3  \\\n0   73557       8.0       2.0       1.0      69.0       4.0       4.0   \n1   73558       8.0       2.0       1.0      54.0       3.0       3.0   \n2   73559       8.0       2.0       1.0      72.0       3.0       3.0   \n3   73560       8.0       2.0       1.0      26.0       3.0       3.0   \n4   73561       8.0       2.0       2.0      73.0       3.0       3.0   \n5   73562       8.0       2.0       1.0      56.0       1.0       1.0   \n6   73563       8.0       2.0       1.0       0.0       3.0       3.0   \n7   73564       8.0       2.0       2.0      61.0       3.0       3.0   \n8   73565       8.0       1.0       1.0      42.0       2.0       2.0   \n9   73566       8.0       2.0       2.0      56.0       3.0       3.0   \n10  73567       8.0       2.0       1.0      65.0       3.0       3.0   \n11  73568       8.0       2.0       2.0      26.0       3.0       3.0   \n12  73569       8.0       1.0       2.0       0.0       5.0       3.0   \n13  73570       8.0       2.0       2.0      26.0       5.0       3.0   \n14  73571       8.0       2.0       1.0      76.0       3.0       3.0   \n15  73572       8.0       2.0       2.0      10.0       4.0       4.0   \n16  73573       8.0       2.0       1.0      10.0       4.0       4.0   \n17  73574       8.0       2.0       2.0      33.0       5.0       6.0   \n18  73575       8.0       2.0       1.0       1.0       4.0       4.0   \n19  73576       8.0       2.0       1.0      16.0       4.0       4.0   \n\n    RIDEXMON  DMQMILIZ  DMDBORN4  ...  LBDBSELC  LBXBMN  LBDBMNSI  LBDBMNLC  \\\n0        1.0       1.0       1.0  ...       0.0    9.89    180.00       0.0   \n1        1.0       2.0       1.0  ...       0.0    8.15    148.33       0.0   \n2        2.0       1.0       1.0  ...       0.0    9.57    174.17       0.0   \n3        1.0       2.0       1.0  ...       0.0   13.07    237.87       0.0   \n4        1.0       2.0       1.0  ...       0.0    9.89    180.00       0.0   \n5        1.0       1.0       1.0  ...       0.0   13.99    254.62       0.0   \n6        2.0       2.0       1.0  ...       0.0    9.89    180.00       0.0   \n7        2.0       2.0       1.0  ...       0.0   16.80    305.76       0.0   \n8        2.0       2.0       1.0  ...       0.0    9.89    180.00       0.0   \n9        1.0       2.0       1.0  ...       0.0    9.89    180.00       0.0   \n10       2.0       2.0       1.0  ...       0.0    7.22    131.40       0.0   \n11       2.0       2.0       1.0  ...       0.0    9.89    180.00       0.0   \n12       2.0       2.0       1.0  ...       0.0    9.89    180.00       0.0   \n13       1.0       2.0       1.0  ...       0.0    9.89    180.00       0.0   \n14       1.0       2.0       1.0  ...       0.0    9.89    180.00       0.0   \n15       1.0       2.0       1.0  ...       0.0    6.57    119.57       0.0   \n16       1.0       2.0       1.0  ...       0.0    9.89    180.00       0.0   \n17       1.0       2.0       2.0  ...       0.0    9.89    180.00       0.0   \n18       1.0       2.0       1.0  ...       0.0    7.50    136.50       0.0   \n19       2.0       2.0       1.0  ...       0.0    9.89    180.00       0.0   \n\n    URXVOL1  URDFLOW1  LBDB12  LBDB12SI  MCQ160L  MCQ220  \n0      87.0     0.821   524.0     386.7      2.0     2.0  \n1      90.0     1.636   507.0     374.2      2.0     2.0  \n2      66.0     0.647   732.0     540.2      2.0     1.0  \n3      61.0     0.575   514.0     379.3      0.0     0.0  \n4       5.0     0.109   225.0     166.1      2.0     2.0  \n5     197.0     1.187   750.0     553.5      2.0     2.0  \n6      86.0     0.647   514.0     379.3      0.0     0.0  \n7      21.0     0.236   668.0     493.0      2.0     2.0  \n8      86.0     0.647   514.0     379.3      2.0     2.0  \n9     157.0     2.492   378.0     279.0      2.0     2.0  \n10     58.0     0.558   194.0     143.2      2.0     2.0  \n11    278.0     3.432   528.0     389.7      2.0     2.0  \n12     86.0     0.647   514.0     379.3      0.0     0.0  \n13     70.0     0.493   514.0     379.3      0.0     0.0  \n14     57.0     0.331   421.0     310.7      2.0     1.0  \n15     52.0     0.464   514.0     379.3      0.0     0.0  \n16     86.0     0.647   514.0     379.3      0.0     0.0  \n17     61.0     0.462   335.0     247.2      2.0     2.0  \n18     86.0     0.647   514.0     379.3      0.0     0.0  \n19     98.0     0.676   514.0     379.3      0.0     0.0  \n\n[20 rows x 377 columns]",
      "text/html": "<div>\n<style scoped>\n    .dataframe tbody tr th:only-of-type {\n        vertical-align: middle;\n    }\n\n    .dataframe tbody tr th {\n        vertical-align: top;\n    }\n\n    .dataframe thead th {\n        text-align: right;\n    }\n</style>\n<table border=\"1\" class=\"dataframe\">\n  <thead>\n    <tr style=\"text-align: right;\">\n      <th></th>\n      <th>SEQN</th>\n      <th>SDDSRVYR</th>\n      <th>RIDSTATR</th>\n      <th>RIAGENDR</th>\n      <th>RIDAGEYR</th>\n      <th>RIDRETH1</th>\n      <th>RIDRETH3</th>\n      <th>RIDEXMON</th>\n      <th>DMQMILIZ</th>\n      <th>DMDBORN4</th>\n      <th>...</th>\n      <th>LBDBSELC</th>\n      <th>LBXBMN</th>\n      <th>LBDBMNSI</th>\n      <th>LBDBMNLC</th>\n      <th>URXVOL1</th>\n      <th>URDFLOW1</th>\n      <th>LBDB12</th>\n      <th>LBDB12SI</th>\n      <th>MCQ160L</th>\n      <th>MCQ220</th>\n    </tr>\n  </thead>\n  <tbody>\n    <tr>\n      <th>0</th>\n      <td>73557</td>\n      <td>8.0</td>\n      <td>2.0</td>\n      <td>1.0</td>\n      <td>69.0</td>\n      <td>4.0</td>\n      <td>4.0</td>\n      <td>1.0</td>\n      <td>1.0</td>\n      <td>1.0</td>\n      <td>...</td>\n      <td>0.0</td>\n      <td>9.89</td>\n      <td>180.00</td>\n      <td>0.0</td>\n      <td>87.0</td>\n      <td>0.821</td>\n      <td>524.0</td>\n      <td>386.7</td>\n      <td>2.0</td>\n      <td>2.0</td>\n    </tr>\n    <tr>\n      <th>1</th>\n      <td>73558</td>\n      <td>8.0</td>\n      <td>2.0</td>\n      <td>1.0</td>\n      <td>54.0</td>\n      <td>3.0</td>\n      <td>3.0</td>\n      <td>1.0</td>\n      <td>2.0</td>\n      <td>1.0</td>\n      <td>...</td>\n      <td>0.0</td>\n      <td>8.15</td>\n      <td>148.33</td>\n      <td>0.0</td>\n      <td>90.0</td>\n      <td>1.636</td>\n      <td>507.0</td>\n      <td>374.2</td>\n      <td>2.0</td>\n      <td>2.0</td>\n    </tr>\n    <tr>\n      <th>2</th>\n      <td>73559</td>\n      <td>8.0</td>\n      <td>2.0</td>\n      <td>1.0</td>\n      <td>72.0</td>\n      <td>3.0</td>\n      <td>3.0</td>\n      <td>2.0</td>\n      <td>1.0</td>\n      <td>1.0</td>\n      <td>...</td>\n      <td>0.0</td>\n      <td>9.57</td>\n      <td>174.17</td>\n      <td>0.0</td>\n      <td>66.0</td>\n      <td>0.647</td>\n      <td>732.0</td>\n      <td>540.2</td>\n      <td>2.0</td>\n      <td>1.0</td>\n    </tr>\n    <tr>\n      <th>3</th>\n      <td>73560</td>\n      <td>8.0</td>\n      <td>2.0</td>\n      <td>1.0</td>\n      <td>26.0</td>\n      <td>3.0</td>\n      <td>3.0</td>\n      <td>1.0</td>\n      <td>2.0</td>\n      <td>1.0</td>\n      <td>...</td>\n      <td>0.0</td>\n      <td>13.07</td>\n      <td>237.87</td>\n      <td>0.0</td>\n      <td>61.0</td>\n      <td>0.575</td>\n      <td>514.0</td>\n      <td>379.3</td>\n      <td>0.0</td>\n      <td>0.0</td>\n    </tr>\n    <tr>\n      <th>4</th>\n      <td>73561</td>\n      <td>8.0</td>\n      <td>2.0</td>\n      <td>2.0</td>\n      <td>73.0</td>\n      <td>3.0</td>\n      <td>3.0</td>\n      <td>1.0</td>\n      <td>2.0</td>\n      <td>1.0</td>\n      <td>...</td>\n      <td>0.0</td>\n      <td>9.89</td>\n      <td>180.00</td>\n      <td>0.0</td>\n      <td>5.0</td>\n      <td>0.109</td>\n      <td>225.0</td>\n      <td>166.1</td>\n      <td>2.0</td>\n      <td>2.0</td>\n    </tr>\n    <tr>\n      <th>5</th>\n      <td>73562</td>\n      <td>8.0</td>\n      <td>2.0</td>\n      <td>1.0</td>\n      <td>56.0</td>\n      <td>1.0</td>\n      <td>1.0</td>\n      <td>1.0</td>\n      <td>1.0</td>\n      <td>1.0</td>\n      <td>...</td>\n      <td>0.0</td>\n      <td>13.99</td>\n      <td>254.62</td>\n      <td>0.0</td>\n      <td>197.0</td>\n      <td>1.187</td>\n      <td>750.0</td>\n      <td>553.5</td>\n      <td>2.0</td>\n      <td>2.0</td>\n    </tr>\n    <tr>\n      <th>6</th>\n      <td>73563</td>\n      <td>8.0</td>\n      <td>2.0</td>\n      <td>1.0</td>\n      <td>0.0</td>\n      <td>3.0</td>\n      <td>3.0</td>\n      <td>2.0</td>\n      <td>2.0</td>\n      <td>1.0</td>\n      <td>...</td>\n      <td>0.0</td>\n      <td>9.89</td>\n      <td>180.00</td>\n      <td>0.0</td>\n      <td>86.0</td>\n      <td>0.647</td>\n      <td>514.0</td>\n      <td>379.3</td>\n      <td>0.0</td>\n      <td>0.0</td>\n    </tr>\n    <tr>\n      <th>7</th>\n      <td>73564</td>\n      <td>8.0</td>\n      <td>2.0</td>\n      <td>2.0</td>\n      <td>61.0</td>\n      <td>3.0</td>\n      <td>3.0</td>\n      <td>2.0</td>\n      <td>2.0</td>\n      <td>1.0</td>\n      <td>...</td>\n      <td>0.0</td>\n      <td>16.80</td>\n      <td>305.76</td>\n      <td>0.0</td>\n      <td>21.0</td>\n      <td>0.236</td>\n      <td>668.0</td>\n      <td>493.0</td>\n      <td>2.0</td>\n      <td>2.0</td>\n    </tr>\n    <tr>\n      <th>8</th>\n      <td>73565</td>\n      <td>8.0</td>\n      <td>1.0</td>\n      <td>1.0</td>\n      <td>42.0</td>\n      <td>2.0</td>\n      <td>2.0</td>\n      <td>2.0</td>\n      <td>2.0</td>\n      <td>1.0</td>\n      <td>...</td>\n      <td>0.0</td>\n      <td>9.89</td>\n      <td>180.00</td>\n      <td>0.0</td>\n      <td>86.0</td>\n      <td>0.647</td>\n      <td>514.0</td>\n      <td>379.3</td>\n      <td>2.0</td>\n      <td>2.0</td>\n    </tr>\n    <tr>\n      <th>9</th>\n      <td>73566</td>\n      <td>8.0</td>\n      <td>2.0</td>\n      <td>2.0</td>\n      <td>56.0</td>\n      <td>3.0</td>\n      <td>3.0</td>\n      <td>1.0</td>\n      <td>2.0</td>\n      <td>1.0</td>\n      <td>...</td>\n      <td>0.0</td>\n      <td>9.89</td>\n      <td>180.00</td>\n      <td>0.0</td>\n      <td>157.0</td>\n      <td>2.492</td>\n      <td>378.0</td>\n      <td>279.0</td>\n      <td>2.0</td>\n      <td>2.0</td>\n    </tr>\n    <tr>\n      <th>10</th>\n      <td>73567</td>\n      <td>8.0</td>\n      <td>2.0</td>\n      <td>1.0</td>\n      <td>65.0</td>\n      <td>3.0</td>\n      <td>3.0</td>\n      <td>2.0</td>\n      <td>2.0</td>\n      <td>1.0</td>\n      <td>...</td>\n      <td>0.0</td>\n      <td>7.22</td>\n      <td>131.40</td>\n      <td>0.0</td>\n      <td>58.0</td>\n      <td>0.558</td>\n      <td>194.0</td>\n      <td>143.2</td>\n      <td>2.0</td>\n      <td>2.0</td>\n    </tr>\n    <tr>\n      <th>11</th>\n      <td>73568</td>\n      <td>8.0</td>\n      <td>2.0</td>\n      <td>2.0</td>\n      <td>26.0</td>\n      <td>3.0</td>\n      <td>3.0</td>\n      <td>2.0</td>\n      <td>2.0</td>\n      <td>1.0</td>\n      <td>...</td>\n      <td>0.0</td>\n      <td>9.89</td>\n      <td>180.00</td>\n      <td>0.0</td>\n      <td>278.0</td>\n      <td>3.432</td>\n      <td>528.0</td>\n      <td>389.7</td>\n      <td>2.0</td>\n      <td>2.0</td>\n    </tr>\n    <tr>\n      <th>12</th>\n      <td>73569</td>\n      <td>8.0</td>\n      <td>1.0</td>\n      <td>2.0</td>\n      <td>0.0</td>\n      <td>5.0</td>\n      <td>3.0</td>\n      <td>2.0</td>\n      <td>2.0</td>\n      <td>1.0</td>\n      <td>...</td>\n      <td>0.0</td>\n      <td>9.89</td>\n      <td>180.00</td>\n      <td>0.0</td>\n      <td>86.0</td>\n      <td>0.647</td>\n      <td>514.0</td>\n      <td>379.3</td>\n      <td>0.0</td>\n      <td>0.0</td>\n    </tr>\n    <tr>\n      <th>13</th>\n      <td>73570</td>\n      <td>8.0</td>\n      <td>2.0</td>\n      <td>2.0</td>\n      <td>26.0</td>\n      <td>5.0</td>\n      <td>3.0</td>\n      <td>1.0</td>\n      <td>2.0</td>\n      <td>1.0</td>\n      <td>...</td>\n      <td>0.0</td>\n      <td>9.89</td>\n      <td>180.00</td>\n      <td>0.0</td>\n      <td>70.0</td>\n      <td>0.493</td>\n      <td>514.0</td>\n      <td>379.3</td>\n      <td>0.0</td>\n      <td>0.0</td>\n    </tr>\n    <tr>\n      <th>14</th>\n      <td>73571</td>\n      <td>8.0</td>\n      <td>2.0</td>\n      <td>1.0</td>\n      <td>76.0</td>\n      <td>3.0</td>\n      <td>3.0</td>\n      <td>1.0</td>\n      <td>2.0</td>\n      <td>1.0</td>\n      <td>...</td>\n      <td>0.0</td>\n      <td>9.89</td>\n      <td>180.00</td>\n      <td>0.0</td>\n      <td>57.0</td>\n      <td>0.331</td>\n      <td>421.0</td>\n      <td>310.7</td>\n      <td>2.0</td>\n      <td>1.0</td>\n    </tr>\n    <tr>\n      <th>15</th>\n      <td>73572</td>\n      <td>8.0</td>\n      <td>2.0</td>\n      <td>2.0</td>\n      <td>10.0</td>\n      <td>4.0</td>\n      <td>4.0</td>\n      <td>1.0</td>\n      <td>2.0</td>\n      <td>1.0</td>\n      <td>...</td>\n      <td>0.0</td>\n      <td>6.57</td>\n      <td>119.57</td>\n      <td>0.0</td>\n      <td>52.0</td>\n      <td>0.464</td>\n      <td>514.0</td>\n      <td>379.3</td>\n      <td>0.0</td>\n      <td>0.0</td>\n    </tr>\n    <tr>\n      <th>16</th>\n      <td>73573</td>\n      <td>8.0</td>\n      <td>2.0</td>\n      <td>1.0</td>\n      <td>10.0</td>\n      <td>4.0</td>\n      <td>4.0</td>\n      <td>1.0</td>\n      <td>2.0</td>\n      <td>1.0</td>\n      <td>...</td>\n      <td>0.0</td>\n      <td>9.89</td>\n      <td>180.00</td>\n      <td>0.0</td>\n      <td>86.0</td>\n      <td>0.647</td>\n      <td>514.0</td>\n      <td>379.3</td>\n      <td>0.0</td>\n      <td>0.0</td>\n    </tr>\n    <tr>\n      <th>17</th>\n      <td>73574</td>\n      <td>8.0</td>\n      <td>2.0</td>\n      <td>2.0</td>\n      <td>33.0</td>\n      <td>5.0</td>\n      <td>6.0</td>\n      <td>1.0</td>\n      <td>2.0</td>\n      <td>2.0</td>\n      <td>...</td>\n      <td>0.0</td>\n      <td>9.89</td>\n      <td>180.00</td>\n      <td>0.0</td>\n      <td>61.0</td>\n      <td>0.462</td>\n      <td>335.0</td>\n      <td>247.2</td>\n      <td>2.0</td>\n      <td>2.0</td>\n    </tr>\n    <tr>\n      <th>18</th>\n      <td>73575</td>\n      <td>8.0</td>\n      <td>2.0</td>\n      <td>1.0</td>\n      <td>1.0</td>\n      <td>4.0</td>\n      <td>4.0</td>\n      <td>1.0</td>\n      <td>2.0</td>\n      <td>1.0</td>\n      <td>...</td>\n      <td>0.0</td>\n      <td>7.50</td>\n      <td>136.50</td>\n      <td>0.0</td>\n      <td>86.0</td>\n      <td>0.647</td>\n      <td>514.0</td>\n      <td>379.3</td>\n      <td>0.0</td>\n      <td>0.0</td>\n    </tr>\n    <tr>\n      <th>19</th>\n      <td>73576</td>\n      <td>8.0</td>\n      <td>2.0</td>\n      <td>1.0</td>\n      <td>16.0</td>\n      <td>4.0</td>\n      <td>4.0</td>\n      <td>2.0</td>\n      <td>2.0</td>\n      <td>1.0</td>\n      <td>...</td>\n      <td>0.0</td>\n      <td>9.89</td>\n      <td>180.00</td>\n      <td>0.0</td>\n      <td>98.0</td>\n      <td>0.676</td>\n      <td>514.0</td>\n      <td>379.3</td>\n      <td>0.0</td>\n      <td>0.0</td>\n    </tr>\n  </tbody>\n</table>\n<p>20 rows × 377 columns</p>\n</div>"
     },
     "execution_count": 7,
     "metadata": {},
     "output_type": "execute_result"
    }
   ],
   "source": [
    "df_imp1 = replace_repeating_sequence(raw_dfs_merged, numerical_features, strategy='median', sequence_values=[7, 9])\n",
    "df_imp1 = statistical_imputer(df_imp1, numerical_features)\n",
    "df_imp1 = constant_imputer(df_imp1, ['MCQ160L','MCQ220'],0)\n",
    "df_imp1 = replace_target_repeating_sequence_with_constant(df_imp1, ['MCQ160L','MCQ220'],0,sequence_values=[7, 9])\n",
    "df_imp1.head(20)"
   ],
   "metadata": {
    "collapsed": false
   }
  },
  {
   "cell_type": "markdown",
   "source": [
    "-- imputing categorical columns"
   ],
   "metadata": {
    "collapsed": false
   }
  },
  {
   "cell_type": "code",
   "execution_count": 8,
   "outputs": [
    {
     "data": {
      "text/plain": "    SEQN  SDDSRVYR  RIDSTATR  RIAGENDR  RIDAGEYR  RIDRETH1  RIDRETH3  \\\n0  73557       8.0       2.0       1.0      69.0       4.0       4.0   \n1  73558       8.0       2.0       1.0      54.0       3.0       3.0   \n2  73559       8.0       2.0       1.0      72.0       3.0       3.0   \n3  73560       8.0       2.0       1.0      26.0       3.0       3.0   \n4  73561       8.0       2.0       2.0      73.0       3.0       3.0   \n5  73562       8.0       2.0       1.0      56.0       1.0       1.0   \n6  73563       8.0       2.0       1.0       0.0       3.0       3.0   \n7  73564       8.0       2.0       2.0      61.0       3.0       3.0   \n8  73565       8.0       1.0       1.0      42.0       2.0       2.0   \n9  73566       8.0       2.0       2.0      56.0       3.0       3.0   \n\n   RIDEXMON  DMQMILIZ  DMDBORN4  ...  LBDBSELC  LBXBMN  LBDBMNSI  LBDBMNLC  \\\n0       1.0       1.0       1.0  ...       0.0    9.89    180.00       0.0   \n1       1.0       2.0       1.0  ...       0.0    8.15    148.33       0.0   \n2       2.0       1.0       1.0  ...       0.0    9.57    174.17       0.0   \n3       1.0       2.0       1.0  ...       0.0   13.07    237.87       0.0   \n4       1.0       2.0       1.0  ...       0.0    9.89    180.00       0.0   \n5       1.0       1.0       1.0  ...       0.0   13.99    254.62       0.0   \n6       2.0       2.0       1.0  ...       0.0    9.89    180.00       0.0   \n7       2.0       2.0       1.0  ...       0.0   16.80    305.76       0.0   \n8       2.0       2.0       1.0  ...       0.0    9.89    180.00       0.0   \n9       1.0       2.0       1.0  ...       0.0    9.89    180.00       0.0   \n\n   URXVOL1  URDFLOW1  LBDB12  LBDB12SI  MCQ160L  MCQ220  \n0     87.0     0.821   524.0     386.7      2.0     2.0  \n1     90.0     1.636   507.0     374.2      2.0     2.0  \n2     66.0     0.647   732.0     540.2      2.0     1.0  \n3     61.0     0.575   514.0     379.3      0.0     0.0  \n4      5.0     0.109   225.0     166.1      2.0     2.0  \n5    197.0     1.187   750.0     553.5      2.0     2.0  \n6     86.0     0.647   514.0     379.3      0.0     0.0  \n7     21.0     0.236   668.0     493.0      2.0     2.0  \n8     86.0     0.647   514.0     379.3      2.0     2.0  \n9    157.0     2.492   378.0     279.0      2.0     2.0  \n\n[10 rows x 377 columns]",
      "text/html": "<div>\n<style scoped>\n    .dataframe tbody tr th:only-of-type {\n        vertical-align: middle;\n    }\n\n    .dataframe tbody tr th {\n        vertical-align: top;\n    }\n\n    .dataframe thead th {\n        text-align: right;\n    }\n</style>\n<table border=\"1\" class=\"dataframe\">\n  <thead>\n    <tr style=\"text-align: right;\">\n      <th></th>\n      <th>SEQN</th>\n      <th>SDDSRVYR</th>\n      <th>RIDSTATR</th>\n      <th>RIAGENDR</th>\n      <th>RIDAGEYR</th>\n      <th>RIDRETH1</th>\n      <th>RIDRETH3</th>\n      <th>RIDEXMON</th>\n      <th>DMQMILIZ</th>\n      <th>DMDBORN4</th>\n      <th>...</th>\n      <th>LBDBSELC</th>\n      <th>LBXBMN</th>\n      <th>LBDBMNSI</th>\n      <th>LBDBMNLC</th>\n      <th>URXVOL1</th>\n      <th>URDFLOW1</th>\n      <th>LBDB12</th>\n      <th>LBDB12SI</th>\n      <th>MCQ160L</th>\n      <th>MCQ220</th>\n    </tr>\n  </thead>\n  <tbody>\n    <tr>\n      <th>0</th>\n      <td>73557</td>\n      <td>8.0</td>\n      <td>2.0</td>\n      <td>1.0</td>\n      <td>69.0</td>\n      <td>4.0</td>\n      <td>4.0</td>\n      <td>1.0</td>\n      <td>1.0</td>\n      <td>1.0</td>\n      <td>...</td>\n      <td>0.0</td>\n      <td>9.89</td>\n      <td>180.00</td>\n      <td>0.0</td>\n      <td>87.0</td>\n      <td>0.821</td>\n      <td>524.0</td>\n      <td>386.7</td>\n      <td>2.0</td>\n      <td>2.0</td>\n    </tr>\n    <tr>\n      <th>1</th>\n      <td>73558</td>\n      <td>8.0</td>\n      <td>2.0</td>\n      <td>1.0</td>\n      <td>54.0</td>\n      <td>3.0</td>\n      <td>3.0</td>\n      <td>1.0</td>\n      <td>2.0</td>\n      <td>1.0</td>\n      <td>...</td>\n      <td>0.0</td>\n      <td>8.15</td>\n      <td>148.33</td>\n      <td>0.0</td>\n      <td>90.0</td>\n      <td>1.636</td>\n      <td>507.0</td>\n      <td>374.2</td>\n      <td>2.0</td>\n      <td>2.0</td>\n    </tr>\n    <tr>\n      <th>2</th>\n      <td>73559</td>\n      <td>8.0</td>\n      <td>2.0</td>\n      <td>1.0</td>\n      <td>72.0</td>\n      <td>3.0</td>\n      <td>3.0</td>\n      <td>2.0</td>\n      <td>1.0</td>\n      <td>1.0</td>\n      <td>...</td>\n      <td>0.0</td>\n      <td>9.57</td>\n      <td>174.17</td>\n      <td>0.0</td>\n      <td>66.0</td>\n      <td>0.647</td>\n      <td>732.0</td>\n      <td>540.2</td>\n      <td>2.0</td>\n      <td>1.0</td>\n    </tr>\n    <tr>\n      <th>3</th>\n      <td>73560</td>\n      <td>8.0</td>\n      <td>2.0</td>\n      <td>1.0</td>\n      <td>26.0</td>\n      <td>3.0</td>\n      <td>3.0</td>\n      <td>1.0</td>\n      <td>2.0</td>\n      <td>1.0</td>\n      <td>...</td>\n      <td>0.0</td>\n      <td>13.07</td>\n      <td>237.87</td>\n      <td>0.0</td>\n      <td>61.0</td>\n      <td>0.575</td>\n      <td>514.0</td>\n      <td>379.3</td>\n      <td>0.0</td>\n      <td>0.0</td>\n    </tr>\n    <tr>\n      <th>4</th>\n      <td>73561</td>\n      <td>8.0</td>\n      <td>2.0</td>\n      <td>2.0</td>\n      <td>73.0</td>\n      <td>3.0</td>\n      <td>3.0</td>\n      <td>1.0</td>\n      <td>2.0</td>\n      <td>1.0</td>\n      <td>...</td>\n      <td>0.0</td>\n      <td>9.89</td>\n      <td>180.00</td>\n      <td>0.0</td>\n      <td>5.0</td>\n      <td>0.109</td>\n      <td>225.0</td>\n      <td>166.1</td>\n      <td>2.0</td>\n      <td>2.0</td>\n    </tr>\n    <tr>\n      <th>5</th>\n      <td>73562</td>\n      <td>8.0</td>\n      <td>2.0</td>\n      <td>1.0</td>\n      <td>56.0</td>\n      <td>1.0</td>\n      <td>1.0</td>\n      <td>1.0</td>\n      <td>1.0</td>\n      <td>1.0</td>\n      <td>...</td>\n      <td>0.0</td>\n      <td>13.99</td>\n      <td>254.62</td>\n      <td>0.0</td>\n      <td>197.0</td>\n      <td>1.187</td>\n      <td>750.0</td>\n      <td>553.5</td>\n      <td>2.0</td>\n      <td>2.0</td>\n    </tr>\n    <tr>\n      <th>6</th>\n      <td>73563</td>\n      <td>8.0</td>\n      <td>2.0</td>\n      <td>1.0</td>\n      <td>0.0</td>\n      <td>3.0</td>\n      <td>3.0</td>\n      <td>2.0</td>\n      <td>2.0</td>\n      <td>1.0</td>\n      <td>...</td>\n      <td>0.0</td>\n      <td>9.89</td>\n      <td>180.00</td>\n      <td>0.0</td>\n      <td>86.0</td>\n      <td>0.647</td>\n      <td>514.0</td>\n      <td>379.3</td>\n      <td>0.0</td>\n      <td>0.0</td>\n    </tr>\n    <tr>\n      <th>7</th>\n      <td>73564</td>\n      <td>8.0</td>\n      <td>2.0</td>\n      <td>2.0</td>\n      <td>61.0</td>\n      <td>3.0</td>\n      <td>3.0</td>\n      <td>2.0</td>\n      <td>2.0</td>\n      <td>1.0</td>\n      <td>...</td>\n      <td>0.0</td>\n      <td>16.80</td>\n      <td>305.76</td>\n      <td>0.0</td>\n      <td>21.0</td>\n      <td>0.236</td>\n      <td>668.0</td>\n      <td>493.0</td>\n      <td>2.0</td>\n      <td>2.0</td>\n    </tr>\n    <tr>\n      <th>8</th>\n      <td>73565</td>\n      <td>8.0</td>\n      <td>1.0</td>\n      <td>1.0</td>\n      <td>42.0</td>\n      <td>2.0</td>\n      <td>2.0</td>\n      <td>2.0</td>\n      <td>2.0</td>\n      <td>1.0</td>\n      <td>...</td>\n      <td>0.0</td>\n      <td>9.89</td>\n      <td>180.00</td>\n      <td>0.0</td>\n      <td>86.0</td>\n      <td>0.647</td>\n      <td>514.0</td>\n      <td>379.3</td>\n      <td>2.0</td>\n      <td>2.0</td>\n    </tr>\n    <tr>\n      <th>9</th>\n      <td>73566</td>\n      <td>8.0</td>\n      <td>2.0</td>\n      <td>2.0</td>\n      <td>56.0</td>\n      <td>3.0</td>\n      <td>3.0</td>\n      <td>1.0</td>\n      <td>2.0</td>\n      <td>1.0</td>\n      <td>...</td>\n      <td>0.0</td>\n      <td>9.89</td>\n      <td>180.00</td>\n      <td>0.0</td>\n      <td>157.0</td>\n      <td>2.492</td>\n      <td>378.0</td>\n      <td>279.0</td>\n      <td>2.0</td>\n      <td>2.0</td>\n    </tr>\n  </tbody>\n</table>\n<p>10 rows × 377 columns</p>\n</div>"
     },
     "execution_count": 8,
     "metadata": {},
     "output_type": "execute_result"
    }
   ],
   "source": [
    "df_imp2 = statistical_imputer(df_imp1, categorical_columns, strategy='most_frequent')\n",
    "df_imp2.head(10)"
   ],
   "metadata": {
    "collapsed": false
   }
  },
  {
   "cell_type": "markdown",
   "source": [
    "## 3- save after dealing with missing values"
   ],
   "metadata": {
    "collapsed": false
   }
  },
  {
   "cell_type": "code",
   "execution_count": 9,
   "outputs": [],
   "source": [
    "save_files([df_imp2], 'df_filling_missing_values_with_median.csv', base_path='../../../data/processed_data/')"
   ],
   "metadata": {
    "collapsed": false
   }
  }
 ],
 "metadata": {
  "kernelspec": {
   "display_name": "Python 3",
   "language": "python",
   "name": "python3"
  },
  "language_info": {
   "codemirror_mode": {
    "name": "ipython",
    "version": 2
   },
   "file_extension": ".py",
   "mimetype": "text/x-python",
   "name": "python",
   "nbconvert_exporter": "python",
   "pygments_lexer": "ipython2",
   "version": "2.7.6"
  }
 },
 "nbformat": 4,
 "nbformat_minor": 0
}
