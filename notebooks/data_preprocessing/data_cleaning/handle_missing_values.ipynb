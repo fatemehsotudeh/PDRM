{
 "cells": [
  {
   "cell_type": "markdown",
   "source": [
    "## 1- import and reading data\n"
   ],
   "metadata": {
    "collapsed": false
   }
  },
  {
   "cell_type": "code",
   "execution_count": 1,
   "outputs": [],
   "source": [
    "import sys\n",
    "\n",
    "sys.path.append('../../../scripts/utilities')\n",
    "from helper_functions import *\n",
    "sys.path.append('../../../scripts/data_preprocessing')\n",
    "from data_cleaning import *"
   ],
   "metadata": {
    "collapsed": false
   }
  },
  {
   "cell_type": "code",
   "execution_count": 2,
   "outputs": [],
   "source": [
    "base_path = '../../../data/raw_data/'\n",
    "raw_dfs_merged = read_files('raw_dfs_merged.csv', base_path=base_path)[0]"
   ],
   "metadata": {
    "collapsed": false
   }
  },
  {
   "cell_type": "markdown",
   "source": [
    "## 2- handle missing values"
   ],
   "metadata": {
    "collapsed": false
   }
  },
  {
   "cell_type": "markdown",
   "source": [
    "**2.1**  Deleting the entire column with many missing value\n",
    "**2.2**  Imputing the Missing Value\n"
   ],
   "metadata": {
    "collapsed": false
   }
  },
  {
   "cell_type": "markdown",
   "source": [
    "<span style=\"color:orange\">2.1- Deleting the entire column </span>\n",
    ">when:\n",
    " >>1 - missing value in type Missing At Random (MAR) or Missing Completely At Random (MCAR)\n",
    " >>2- column has many missing value"
   ],
   "metadata": {
    "collapsed": false
   }
  },
  {
   "cell_type": "code",
   "execution_count": 3,
   "outputs": [
    {
     "data": {
      "text/plain": "(10175, 377)"
     },
     "execution_count": 3,
     "metadata": {},
     "output_type": "execute_result"
    }
   ],
   "source": [
    "threshold_percentage = 50\n",
    "raw_dfs_merged_columns_to_drop = extract_columns_by_threshold(raw_dfs_merged, threshold_percentage)\n",
    "raw_dfs_merged = raw_dfs_merged.drop(columns=raw_dfs_merged_columns_to_drop)\n",
    "raw_dfs_merged.shape"
   ],
   "metadata": {
    "collapsed": false
   }
  },
  {
   "cell_type": "markdown",
   "source": [
    "<span style=\"color:orange\">2.2- Imputing the Missing Value </span>\n",
    ">when:\n",
    " >>1 - missing value in type Missing Not At Random (MNAR) in this case (In the cells that used compounds 7 and 9, they express this type)\n",
    " >>2- Cells that were not removed by applying threshold in the previous step"
   ],
   "metadata": {
    "collapsed": false
   }
  },
  {
   "cell_type": "markdown",
   "source": [
    "__2.2.1 imputing by median(numerical columns) and mod(categorical columns)__"
   ],
   "metadata": {
    "collapsed": false
   }
  },
  {
   "cell_type": "code",
   "execution_count": 4,
   "outputs": [
    {
     "data": {
      "text/plain": "['SDDSRVYR',\n 'RIDSTATR',\n 'RIAGENDR',\n 'RIDAGEYR',\n 'RIDRETH1',\n 'RIDRETH3',\n 'RIDEXMON',\n 'DMQMILIZ',\n 'DMDBORN4',\n 'DMDCITZN']"
     },
     "execution_count": 4,
     "metadata": {},
     "output_type": "execute_result"
    }
   ],
   "source": [
    "numerical_columns = extract_numerical_columns(raw_dfs_merged)\n",
    "numerical_columns.remove('SEQN')\n",
    "numerical_columns[:10]"
   ],
   "metadata": {
    "collapsed": false
   }
  },
  {
   "cell_type": "code",
   "execution_count": 5,
   "outputs": [
    {
     "data": {
      "text/plain": "['OHX02CTC',\n 'OHX03CTC',\n 'OHX04CTC',\n 'OHX05CTC',\n 'OHX06CTC',\n 'OHX07CTC',\n 'OHX08CTC',\n 'OHX09CTC',\n 'OHX10CTC',\n 'OHX11CTC']"
     },
     "execution_count": 5,
     "metadata": {},
     "output_type": "execute_result"
    }
   ],
   "source": [
    "categorical_columns = extract_categorical_columns(raw_dfs_merged)\n",
    "categorical_columns[:10]"
   ],
   "metadata": {
    "collapsed": false
   }
  },
  {
   "cell_type": "markdown",
   "source": [
    "-- imputing numerical columns"
   ],
   "metadata": {
    "collapsed": false
   }
  },
  {
   "cell_type": "code",
   "execution_count": 14,
   "outputs": [
    {
     "data": {
      "text/plain": "    SEQN  SDDSRVYR  RIDSTATR  RIAGENDR  RIDAGEYR  RIDRETH1  RIDRETH3  \\\n0  73557       8.0       2.0       1.0      69.0       4.0       4.0   \n1  73558       8.0       2.0       1.0      54.0       3.0       3.0   \n\n   RIDEXMON  DMQMILIZ  DMDBORN4  ...  LBDBSELC  LBXBMN  LBDBMNSI  LBDBMNLC  \\\n0       1.0       1.0       1.0  ...       0.0    9.89    180.00       0.0   \n1       1.0       2.0       1.0  ...       0.0    8.15    148.33       0.0   \n\n   URXVOL1  URDFLOW1  LBDB12  LBDB12SI  MCQ160L  MCQ220  \n0     87.0     0.821   524.0     386.7      2.0     2.0  \n1     90.0     1.636   507.0     374.2      2.0     2.0  \n\n[2 rows x 377 columns]",
      "text/html": "<div>\n<style scoped>\n    .dataframe tbody tr th:only-of-type {\n        vertical-align: middle;\n    }\n\n    .dataframe tbody tr th {\n        vertical-align: top;\n    }\n\n    .dataframe thead th {\n        text-align: right;\n    }\n</style>\n<table border=\"1\" class=\"dataframe\">\n  <thead>\n    <tr style=\"text-align: right;\">\n      <th></th>\n      <th>SEQN</th>\n      <th>SDDSRVYR</th>\n      <th>RIDSTATR</th>\n      <th>RIAGENDR</th>\n      <th>RIDAGEYR</th>\n      <th>RIDRETH1</th>\n      <th>RIDRETH3</th>\n      <th>RIDEXMON</th>\n      <th>DMQMILIZ</th>\n      <th>DMDBORN4</th>\n      <th>...</th>\n      <th>LBDBSELC</th>\n      <th>LBXBMN</th>\n      <th>LBDBMNSI</th>\n      <th>LBDBMNLC</th>\n      <th>URXVOL1</th>\n      <th>URDFLOW1</th>\n      <th>LBDB12</th>\n      <th>LBDB12SI</th>\n      <th>MCQ160L</th>\n      <th>MCQ220</th>\n    </tr>\n  </thead>\n  <tbody>\n    <tr>\n      <th>0</th>\n      <td>73557</td>\n      <td>8.0</td>\n      <td>2.0</td>\n      <td>1.0</td>\n      <td>69.0</td>\n      <td>4.0</td>\n      <td>4.0</td>\n      <td>1.0</td>\n      <td>1.0</td>\n      <td>1.0</td>\n      <td>...</td>\n      <td>0.0</td>\n      <td>9.89</td>\n      <td>180.00</td>\n      <td>0.0</td>\n      <td>87.0</td>\n      <td>0.821</td>\n      <td>524.0</td>\n      <td>386.7</td>\n      <td>2.0</td>\n      <td>2.0</td>\n    </tr>\n    <tr>\n      <th>1</th>\n      <td>73558</td>\n      <td>8.0</td>\n      <td>2.0</td>\n      <td>1.0</td>\n      <td>54.0</td>\n      <td>3.0</td>\n      <td>3.0</td>\n      <td>1.0</td>\n      <td>2.0</td>\n      <td>1.0</td>\n      <td>...</td>\n      <td>0.0</td>\n      <td>8.15</td>\n      <td>148.33</td>\n      <td>0.0</td>\n      <td>90.0</td>\n      <td>1.636</td>\n      <td>507.0</td>\n      <td>374.2</td>\n      <td>2.0</td>\n      <td>2.0</td>\n    </tr>\n  </tbody>\n</table>\n<p>2 rows × 377 columns</p>\n</div>"
     },
     "execution_count": 14,
     "metadata": {},
     "output_type": "execute_result"
    }
   ],
   "source": [
    "df_imp1 = replace_repeating_sequence(raw_dfs_merged, numerical_columns, strategy='median', sequence_values=[7, 9])\n",
    "df_imp2 = statistical_imputer(df_imp1, numerical_columns)"
   ],
   "metadata": {
    "collapsed": false
   }
  },
  {
   "cell_type": "markdown",
   "source": [
    "-- imputing categorical columns"
   ],
   "metadata": {
    "collapsed": false
   }
  },
  {
   "cell_type": "code",
   "execution_count": 15,
   "outputs": [
    {
     "data": {
      "text/plain": "    SEQN  SDDSRVYR  RIDSTATR  RIAGENDR  RIDAGEYR  RIDRETH1  RIDRETH3  \\\n0  73557       8.0       2.0       1.0      69.0       4.0       4.0   \n1  73558       8.0       2.0       1.0      54.0       3.0       3.0   \n\n   RIDEXMON  DMQMILIZ  DMDBORN4  ...  LBDBSELC  LBXBMN  LBDBMNSI  LBDBMNLC  \\\n0       1.0       1.0       1.0  ...       0.0    9.89    180.00       0.0   \n1       1.0       2.0       1.0  ...       0.0    8.15    148.33       0.0   \n\n   URXVOL1  URDFLOW1  LBDB12  LBDB12SI  MCQ160L  MCQ220  \n0     87.0     0.821   524.0     386.7      2.0     2.0  \n1     90.0     1.636   507.0     374.2      2.0     2.0  \n\n[2 rows x 377 columns]",
      "text/html": "<div>\n<style scoped>\n    .dataframe tbody tr th:only-of-type {\n        vertical-align: middle;\n    }\n\n    .dataframe tbody tr th {\n        vertical-align: top;\n    }\n\n    .dataframe thead th {\n        text-align: right;\n    }\n</style>\n<table border=\"1\" class=\"dataframe\">\n  <thead>\n    <tr style=\"text-align: right;\">\n      <th></th>\n      <th>SEQN</th>\n      <th>SDDSRVYR</th>\n      <th>RIDSTATR</th>\n      <th>RIAGENDR</th>\n      <th>RIDAGEYR</th>\n      <th>RIDRETH1</th>\n      <th>RIDRETH3</th>\n      <th>RIDEXMON</th>\n      <th>DMQMILIZ</th>\n      <th>DMDBORN4</th>\n      <th>...</th>\n      <th>LBDBSELC</th>\n      <th>LBXBMN</th>\n      <th>LBDBMNSI</th>\n      <th>LBDBMNLC</th>\n      <th>URXVOL1</th>\n      <th>URDFLOW1</th>\n      <th>LBDB12</th>\n      <th>LBDB12SI</th>\n      <th>MCQ160L</th>\n      <th>MCQ220</th>\n    </tr>\n  </thead>\n  <tbody>\n    <tr>\n      <th>0</th>\n      <td>73557</td>\n      <td>8.0</td>\n      <td>2.0</td>\n      <td>1.0</td>\n      <td>69.0</td>\n      <td>4.0</td>\n      <td>4.0</td>\n      <td>1.0</td>\n      <td>1.0</td>\n      <td>1.0</td>\n      <td>...</td>\n      <td>0.0</td>\n      <td>9.89</td>\n      <td>180.00</td>\n      <td>0.0</td>\n      <td>87.0</td>\n      <td>0.821</td>\n      <td>524.0</td>\n      <td>386.7</td>\n      <td>2.0</td>\n      <td>2.0</td>\n    </tr>\n    <tr>\n      <th>1</th>\n      <td>73558</td>\n      <td>8.0</td>\n      <td>2.0</td>\n      <td>1.0</td>\n      <td>54.0</td>\n      <td>3.0</td>\n      <td>3.0</td>\n      <td>1.0</td>\n      <td>2.0</td>\n      <td>1.0</td>\n      <td>...</td>\n      <td>0.0</td>\n      <td>8.15</td>\n      <td>148.33</td>\n      <td>0.0</td>\n      <td>90.0</td>\n      <td>1.636</td>\n      <td>507.0</td>\n      <td>374.2</td>\n      <td>2.0</td>\n      <td>2.0</td>\n    </tr>\n  </tbody>\n</table>\n<p>2 rows × 377 columns</p>\n</div>"
     },
     "execution_count": 15,
     "metadata": {},
     "output_type": "execute_result"
    }
   ],
   "source": [
    "df_imp3 = statistical_imputer(df_imp2, categorical_columns, strategy='most_frequent')\n",
    "df_imp3.head(2)"
   ],
   "metadata": {
    "collapsed": false
   }
  },
  {
   "cell_type": "markdown",
   "source": [
    "## 3- save after dealing with missing values"
   ],
   "metadata": {
    "collapsed": false
   }
  },
  {
   "cell_type": "code",
   "execution_count": 21,
   "outputs": [],
   "source": [
    "save_files([df_imp3], 'df_filling_missing_values.csv', base_path='../../../data/processed_data/')"
   ],
   "metadata": {
    "collapsed": false
   }
  },
  {
   "cell_type": "code",
   "execution_count": null,
   "outputs": [],
   "source": [],
   "metadata": {
    "collapsed": false
   }
  }
 ],
 "metadata": {
  "kernelspec": {
   "display_name": "Python 3",
   "language": "python",
   "name": "python3"
  },
  "language_info": {
   "codemirror_mode": {
    "name": "ipython",
    "version": 2
   },
   "file_extension": ".py",
   "mimetype": "text/x-python",
   "name": "python",
   "nbconvert_exporter": "python",
   "pygments_lexer": "ipython2",
   "version": "2.7.6"
  }
 },
 "nbformat": 4,
 "nbformat_minor": 0
}
