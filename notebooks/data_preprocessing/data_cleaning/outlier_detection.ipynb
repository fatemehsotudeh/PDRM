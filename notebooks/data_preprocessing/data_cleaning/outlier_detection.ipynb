{
 "cells": [
  {
   "cell_type": "markdown",
   "source": [
    "**The primary goal of this step is to identify and handle outliers in the dataset, with a specific focus on instances where a single column contains more than 50 percent outliers. The Interquartile Range (IQR) method was employed for outlier identification and removal.**\n",
    "\n",
    "**Outlier Detection Using IQR:**\n",
    "-   Outliers were identified using the Interquartile Range (IQR) method for each column individually. The IQR is calculated as the difference between the third quartile (Q3) and the first quartile (Q1), and outliers are defined as values falling outside the range **[Q1 - 1.5 * IQR, Q3 + 1.5 * IQR].**\n",
    "\n",
    "**the way i use it:**\n",
    "-   If a column had more than 50 percent outliers, it was dropped from the dataset.\n"
   ],
   "metadata": {
    "collapsed": false
   }
  },
  {
   "cell_type": "markdown",
   "source": [
    "## 1- import and reading data"
   ],
   "metadata": {
    "collapsed": false
   }
  },
  {
   "cell_type": "code",
   "execution_count": 7,
   "outputs": [],
   "source": [
    "import sys\n",
    "sys.path.append('../../../scripts/utilities')\n",
    "from helper_functions import *\n",
    "sys.path.append('../../../scripts/data_preprocessing')\n",
    "from data_cleaning import *"
   ],
   "metadata": {
    "collapsed": false
   }
  },
  {
   "cell_type": "code",
   "execution_count": 8,
   "outputs": [
    {
     "data": {
      "text/plain": "(10175, 372)"
     },
     "execution_count": 8,
     "metadata": {},
     "output_type": "execute_result"
    }
   ],
   "source": [
    "base_path = '../../../data/processed_data/'\n",
    "df = read_files('df_filling_missing_values_with_median_encoded_handle_noisy.csv', base_path=base_path)[0]\n",
    "df.shape"
   ],
   "metadata": {
    "collapsed": false
   }
  },
  {
   "cell_type": "markdown",
   "source": [
    "## 2- remove outliers"
   ],
   "metadata": {
    "collapsed": false
   }
  },
  {
   "cell_type": "code",
   "execution_count": 9,
   "outputs": [
    {
     "name": "stdout",
     "output_type": "stream",
     "text": [
      "    SEQN  RIDSTATR  RIAGENDR  RIDAGEYR  RIDRETH1  RIDRETH3  RIDEXMON  \\\n",
      "0  73557       2.0       1.0      69.0       4.0       4.0       1.0   \n",
      "1  73558       2.0       1.0      54.0       3.0       3.0       1.0   \n",
      "2  73559       2.0       1.0      72.0       3.0       3.0       2.0   \n",
      "3  73560       2.0       1.0      26.0       3.0       3.0       1.0   \n",
      "4  73561       2.0       2.0      73.0       3.0       3.0       1.0   \n",
      "\n",
      "   DMQMILIZ  DMDBORN4  DMDCITZN  ...  LBXTC  LBDTCSI  LBXTTG      WTSH2YR.y  \\\n",
      "0       1.0       1.0       1.0  ...  167.0     4.32     2.0   34086.061823   \n",
      "1       2.0       1.0       1.0  ...  170.0     4.40     2.0   49123.400015   \n",
      "2       1.0       1.0       1.0  ...  126.0     3.26     2.0  115794.742161   \n",
      "3       2.0       1.0       1.0  ...  168.0     4.34     2.0   55766.512438   \n",
      "4       2.0       1.0       1.0  ...  201.0     5.20     2.0   34086.061823   \n",
      "\n",
      "   LBDBCDLC  LBDTHGLC  URXVOL1  URDFLOW1  MCQ160L  MCQ220  \n",
      "0       0.0       0.0     87.0     0.821      2.0     2.0  \n",
      "1       0.0       0.0     90.0     1.636      2.0     2.0  \n",
      "2       0.0       0.0     66.0     0.647      2.0     1.0  \n",
      "3       1.0       0.0     61.0     0.575      0.0     0.0  \n",
      "4       0.0       0.0      5.0     0.109      2.0     2.0  \n",
      "\n",
      "[5 rows x 358 columns]\n"
     ]
    }
   ],
   "source": [
    "df = remove_outliers(df, outlier_threshold=1.5, column_outlier_percentage_threshold=40)\n",
    "print(df.head())"
   ],
   "metadata": {
    "collapsed": false
   }
  },
  {
   "cell_type": "markdown",
   "source": [
    "## 3- save dataframe"
   ],
   "metadata": {
    "collapsed": false
   }
  },
  {
   "cell_type": "code",
   "execution_count": 10,
   "outputs": [],
   "source": [
    "save_files([df], 'df_filling_missing_values_with_median_encoded_handle_noisy_handle_outlier.csv', base_path=base_path)"
   ],
   "metadata": {
    "collapsed": false
   }
  }
 ],
 "metadata": {
  "kernelspec": {
   "display_name": "Python 3",
   "language": "python",
   "name": "python3"
  },
  "language_info": {
   "codemirror_mode": {
    "name": "ipython",
    "version": 2
   },
   "file_extension": ".py",
   "mimetype": "text/x-python",
   "name": "python",
   "nbconvert_exporter": "python",
   "pygments_lexer": "ipython2",
   "version": "2.7.6"
  }
 },
 "nbformat": 4,
 "nbformat_minor": 0
}
