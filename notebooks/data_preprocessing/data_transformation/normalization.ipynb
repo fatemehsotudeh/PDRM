{
 "cells": [
  {
   "cell_type": "markdown",
   "source": [
    "**The primary objective of the normalization process is to scale numerical features in the dataset to a standard range, facilitating fair comparison and preventing features with larger scales from dominating the analysis.**\n",
    "\n",
    "Normalization is crucial to bring numerical features to a consistent scale, preventing certain features from having undue influence on machine learning models due to their scale.\n",
    "\n",
    "Various normalization techniques include **Min-Max scaling, Z-score normalization, and Robust scaling**. Each method has its advantages, and the choice depends on the characteristics of the data and the requirements of the analysis.\n",
    "\n",
    "> in this project i preferred that use Min-Max scaling"
   ],
   "metadata": {
    "collapsed": false
   }
  },
  {
   "cell_type": "markdown",
   "source": [
    "## 1- import and reading data (with outlier and without it)"
   ],
   "metadata": {
    "collapsed": false
   }
  },
  {
   "cell_type": "code",
   "execution_count": 2,
   "outputs": [],
   "source": [
    "import sys\n",
    "sys.path.append('../../../scripts/utilities')\n",
    "from helper_functions import *\n",
    "sys.path.append('../../../scripts/data_preprocessing')\n",
    "from data_transformation import *"
   ],
   "metadata": {
    "collapsed": false
   }
  },
  {
   "cell_type": "markdown",
   "source": [
    "__with outlier__"
   ],
   "metadata": {
    "collapsed": false
   }
  },
  {
   "cell_type": "code",
   "execution_count": 3,
   "outputs": [],
   "source": [
    "base_path = '../../../data/processed_data/'\n",
    "df = read_files('df_filling_missing_values_with_median_encoded_handle_noisy.csv', base_path=base_path)[0]"
   ],
   "metadata": {
    "collapsed": false
   }
  },
  {
   "cell_type": "markdown",
   "source": [
    "## 2- normalize features except labels and id"
   ],
   "metadata": {
    "collapsed": false
   }
  },
  {
   "cell_type": "code",
   "execution_count": 4,
   "outputs": [],
   "source": [
    "X=[column for column in df.columns if column not in ['MCQ160L','MCQ220','SEQN']]\n",
    "df_normalized=normalize_data(df, columns=X, method='minmax')"
   ],
   "metadata": {
    "collapsed": false
   }
  },
  {
   "cell_type": "code",
   "execution_count": 5,
   "outputs": [
    {
     "data": {
      "text/plain": "    SEQN  RIDSTATR  RIAGENDR  RIDAGEYR  RIDRETH1  RIDRETH3  RIDEXMON  \\\n0  73557       1.0       0.0    0.8625      0.75       0.6       0.0   \n1  73558       1.0       0.0    0.6750      0.50       0.4       0.0   \n2  73559       1.0       0.0    0.9000      0.50       0.4       1.0   \n3  73560       1.0       0.0    0.3250      0.50       0.4       0.0   \n4  73561       1.0       1.0    0.9125      0.50       0.4       0.0   \n\n   DMQMILIZ  DMDBORN4  DMDCITZN  ...    LBXBSE  LBDBSESI    LBXBMN  LBDBMNSI  \\\n0       0.0       0.0       0.0  ...  0.154784  0.155340  0.153094  0.153097   \n1       1.0       0.0       0.0  ...  0.182886  0.183252  0.120369  0.120369   \n2       0.0       0.0       0.0  ...  0.190455  0.190534  0.147075  0.147072   \n3       1.0       0.0       0.0  ...  0.129072  0.129854  0.212902  0.212899   \n4       1.0       0.0       0.0  ...  0.154784  0.155340  0.153094  0.153097   \n\n    URXVOL1  URDFLOW1    LBDB12  LBDB12SI  MCQ160L  MCQ220  \n0  0.157609  0.031577  0.018893  0.018891      2.0     2.0  \n1  0.163043  0.062923  0.018258  0.018259      2.0     2.0  \n2  0.119565  0.024885  0.026659  0.026657      2.0     1.0  \n3  0.110507  0.022115  0.018519  0.018517      0.0     0.0  \n4  0.009058  0.004192  0.007729  0.007731      2.0     2.0  \n\n[5 rows x 372 columns]",
      "text/html": "<div>\n<style scoped>\n    .dataframe tbody tr th:only-of-type {\n        vertical-align: middle;\n    }\n\n    .dataframe tbody tr th {\n        vertical-align: top;\n    }\n\n    .dataframe thead th {\n        text-align: right;\n    }\n</style>\n<table border=\"1\" class=\"dataframe\">\n  <thead>\n    <tr style=\"text-align: right;\">\n      <th></th>\n      <th>SEQN</th>\n      <th>RIDSTATR</th>\n      <th>RIAGENDR</th>\n      <th>RIDAGEYR</th>\n      <th>RIDRETH1</th>\n      <th>RIDRETH3</th>\n      <th>RIDEXMON</th>\n      <th>DMQMILIZ</th>\n      <th>DMDBORN4</th>\n      <th>DMDCITZN</th>\n      <th>...</th>\n      <th>LBXBSE</th>\n      <th>LBDBSESI</th>\n      <th>LBXBMN</th>\n      <th>LBDBMNSI</th>\n      <th>URXVOL1</th>\n      <th>URDFLOW1</th>\n      <th>LBDB12</th>\n      <th>LBDB12SI</th>\n      <th>MCQ160L</th>\n      <th>MCQ220</th>\n    </tr>\n  </thead>\n  <tbody>\n    <tr>\n      <th>0</th>\n      <td>73557</td>\n      <td>1.0</td>\n      <td>0.0</td>\n      <td>0.8625</td>\n      <td>0.75</td>\n      <td>0.6</td>\n      <td>0.0</td>\n      <td>0.0</td>\n      <td>0.0</td>\n      <td>0.0</td>\n      <td>...</td>\n      <td>0.154784</td>\n      <td>0.155340</td>\n      <td>0.153094</td>\n      <td>0.153097</td>\n      <td>0.157609</td>\n      <td>0.031577</td>\n      <td>0.018893</td>\n      <td>0.018891</td>\n      <td>2.0</td>\n      <td>2.0</td>\n    </tr>\n    <tr>\n      <th>1</th>\n      <td>73558</td>\n      <td>1.0</td>\n      <td>0.0</td>\n      <td>0.6750</td>\n      <td>0.50</td>\n      <td>0.4</td>\n      <td>0.0</td>\n      <td>1.0</td>\n      <td>0.0</td>\n      <td>0.0</td>\n      <td>...</td>\n      <td>0.182886</td>\n      <td>0.183252</td>\n      <td>0.120369</td>\n      <td>0.120369</td>\n      <td>0.163043</td>\n      <td>0.062923</td>\n      <td>0.018258</td>\n      <td>0.018259</td>\n      <td>2.0</td>\n      <td>2.0</td>\n    </tr>\n    <tr>\n      <th>2</th>\n      <td>73559</td>\n      <td>1.0</td>\n      <td>0.0</td>\n      <td>0.9000</td>\n      <td>0.50</td>\n      <td>0.4</td>\n      <td>1.0</td>\n      <td>0.0</td>\n      <td>0.0</td>\n      <td>0.0</td>\n      <td>...</td>\n      <td>0.190455</td>\n      <td>0.190534</td>\n      <td>0.147075</td>\n      <td>0.147072</td>\n      <td>0.119565</td>\n      <td>0.024885</td>\n      <td>0.026659</td>\n      <td>0.026657</td>\n      <td>2.0</td>\n      <td>1.0</td>\n    </tr>\n    <tr>\n      <th>3</th>\n      <td>73560</td>\n      <td>1.0</td>\n      <td>0.0</td>\n      <td>0.3250</td>\n      <td>0.50</td>\n      <td>0.4</td>\n      <td>0.0</td>\n      <td>1.0</td>\n      <td>0.0</td>\n      <td>0.0</td>\n      <td>...</td>\n      <td>0.129072</td>\n      <td>0.129854</td>\n      <td>0.212902</td>\n      <td>0.212899</td>\n      <td>0.110507</td>\n      <td>0.022115</td>\n      <td>0.018519</td>\n      <td>0.018517</td>\n      <td>0.0</td>\n      <td>0.0</td>\n    </tr>\n    <tr>\n      <th>4</th>\n      <td>73561</td>\n      <td>1.0</td>\n      <td>1.0</td>\n      <td>0.9125</td>\n      <td>0.50</td>\n      <td>0.4</td>\n      <td>0.0</td>\n      <td>1.0</td>\n      <td>0.0</td>\n      <td>0.0</td>\n      <td>...</td>\n      <td>0.154784</td>\n      <td>0.155340</td>\n      <td>0.153094</td>\n      <td>0.153097</td>\n      <td>0.009058</td>\n      <td>0.004192</td>\n      <td>0.007729</td>\n      <td>0.007731</td>\n      <td>2.0</td>\n      <td>2.0</td>\n    </tr>\n  </tbody>\n</table>\n<p>5 rows × 372 columns</p>\n</div>"
     },
     "execution_count": 5,
     "metadata": {},
     "output_type": "execute_result"
    }
   ],
   "source": [
    "df_normalized[:5]"
   ],
   "metadata": {
    "collapsed": false
   }
  },
  {
   "cell_type": "markdown",
   "source": [
    "## 3- save after normalizing"
   ],
   "metadata": {
    "collapsed": false
   }
  },
  {
   "cell_type": "code",
   "execution_count": 5,
   "outputs": [],
   "source": [
    "save_files([df_normalized], 'df_filling_missing_values_with_median_encoded_handle_noisy_normalized.csv', base_path='../../../data/processed_data/')"
   ],
   "metadata": {
    "collapsed": false
   }
  },
  {
   "cell_type": "markdown",
   "source": [
    "__without outlier__"
   ],
   "metadata": {
    "collapsed": false
   }
  },
  {
   "cell_type": "code",
   "execution_count": 14,
   "outputs": [],
   "source": [
    "df2 = read_files('df_filling_missing_values_with_median_encoded_handle_noisy_handle_outlier.csv', base_path=base_path)[0]"
   ],
   "metadata": {
    "collapsed": false
   }
  },
  {
   "cell_type": "code",
   "execution_count": 16,
   "outputs": [],
   "source": [
    "X2=[column for column in df2.columns if column not in ['MCQ160L','MCQ220','SEQN']]\n",
    "df_normalized2=normalize_data(df2, columns=X2, method='minmax')"
   ],
   "metadata": {
    "collapsed": false
   }
  },
  {
   "cell_type": "code",
   "execution_count": 17,
   "outputs": [
    {
     "data": {
      "text/plain": "    SEQN  RIDSTATR  RIAGENDR  RIDAGEYR  RIDRETH1  RIDRETH3  RIDEXMON  \\\n0  73557       1.0       0.0    0.8625      0.75       0.6       0.0   \n1  73558       1.0       0.0    0.6750      0.50       0.4       0.0   \n2  73559       1.0       0.0    0.9000      0.50       0.4       1.0   \n3  73560       1.0       0.0    0.3250      0.50       0.4       0.0   \n4  73561       1.0       1.0    0.9125      0.50       0.4       0.0   \n\n   DMQMILIZ  DMDBORN4  DMDCITZN  ...     LBXTC   LBDTCSI  LBXTTG  WTSH2YR.y  \\\n0       0.0       0.0       0.0  ...  0.131720  0.132017     0.5   0.105820   \n1       1.0       0.0       0.0  ...  0.135753  0.136175     0.5   0.152503   \n2       0.0       0.0       0.0  ...  0.076613  0.076923     0.5   0.359484   \n3       1.0       0.0       0.0  ...  0.133065  0.133056     0.5   0.173127   \n4       1.0       0.0       0.0  ...  0.177419  0.177755     0.5   0.105820   \n\n   LBDBCDLC  LBDTHGLC   URXVOL1  URDFLOW1  MCQ160L  MCQ220  \n0       0.0       0.0  0.157609  0.031577      2.0     2.0  \n1       0.0       0.0  0.163043  0.062923      2.0     2.0  \n2       0.0       0.0  0.119565  0.024885      2.0     1.0  \n3       1.0       0.0  0.110507  0.022115      0.0     0.0  \n4       0.0       0.0  0.009058  0.004192      2.0     2.0  \n\n[5 rows x 358 columns]",
      "text/html": "<div>\n<style scoped>\n    .dataframe tbody tr th:only-of-type {\n        vertical-align: middle;\n    }\n\n    .dataframe tbody tr th {\n        vertical-align: top;\n    }\n\n    .dataframe thead th {\n        text-align: right;\n    }\n</style>\n<table border=\"1\" class=\"dataframe\">\n  <thead>\n    <tr style=\"text-align: right;\">\n      <th></th>\n      <th>SEQN</th>\n      <th>RIDSTATR</th>\n      <th>RIAGENDR</th>\n      <th>RIDAGEYR</th>\n      <th>RIDRETH1</th>\n      <th>RIDRETH3</th>\n      <th>RIDEXMON</th>\n      <th>DMQMILIZ</th>\n      <th>DMDBORN4</th>\n      <th>DMDCITZN</th>\n      <th>...</th>\n      <th>LBXTC</th>\n      <th>LBDTCSI</th>\n      <th>LBXTTG</th>\n      <th>WTSH2YR.y</th>\n      <th>LBDBCDLC</th>\n      <th>LBDTHGLC</th>\n      <th>URXVOL1</th>\n      <th>URDFLOW1</th>\n      <th>MCQ160L</th>\n      <th>MCQ220</th>\n    </tr>\n  </thead>\n  <tbody>\n    <tr>\n      <th>0</th>\n      <td>73557</td>\n      <td>1.0</td>\n      <td>0.0</td>\n      <td>0.8625</td>\n      <td>0.75</td>\n      <td>0.6</td>\n      <td>0.0</td>\n      <td>0.0</td>\n      <td>0.0</td>\n      <td>0.0</td>\n      <td>...</td>\n      <td>0.131720</td>\n      <td>0.132017</td>\n      <td>0.5</td>\n      <td>0.105820</td>\n      <td>0.0</td>\n      <td>0.0</td>\n      <td>0.157609</td>\n      <td>0.031577</td>\n      <td>2.0</td>\n      <td>2.0</td>\n    </tr>\n    <tr>\n      <th>1</th>\n      <td>73558</td>\n      <td>1.0</td>\n      <td>0.0</td>\n      <td>0.6750</td>\n      <td>0.50</td>\n      <td>0.4</td>\n      <td>0.0</td>\n      <td>1.0</td>\n      <td>0.0</td>\n      <td>0.0</td>\n      <td>...</td>\n      <td>0.135753</td>\n      <td>0.136175</td>\n      <td>0.5</td>\n      <td>0.152503</td>\n      <td>0.0</td>\n      <td>0.0</td>\n      <td>0.163043</td>\n      <td>0.062923</td>\n      <td>2.0</td>\n      <td>2.0</td>\n    </tr>\n    <tr>\n      <th>2</th>\n      <td>73559</td>\n      <td>1.0</td>\n      <td>0.0</td>\n      <td>0.9000</td>\n      <td>0.50</td>\n      <td>0.4</td>\n      <td>1.0</td>\n      <td>0.0</td>\n      <td>0.0</td>\n      <td>0.0</td>\n      <td>...</td>\n      <td>0.076613</td>\n      <td>0.076923</td>\n      <td>0.5</td>\n      <td>0.359484</td>\n      <td>0.0</td>\n      <td>0.0</td>\n      <td>0.119565</td>\n      <td>0.024885</td>\n      <td>2.0</td>\n      <td>1.0</td>\n    </tr>\n    <tr>\n      <th>3</th>\n      <td>73560</td>\n      <td>1.0</td>\n      <td>0.0</td>\n      <td>0.3250</td>\n      <td>0.50</td>\n      <td>0.4</td>\n      <td>0.0</td>\n      <td>1.0</td>\n      <td>0.0</td>\n      <td>0.0</td>\n      <td>...</td>\n      <td>0.133065</td>\n      <td>0.133056</td>\n      <td>0.5</td>\n      <td>0.173127</td>\n      <td>1.0</td>\n      <td>0.0</td>\n      <td>0.110507</td>\n      <td>0.022115</td>\n      <td>0.0</td>\n      <td>0.0</td>\n    </tr>\n    <tr>\n      <th>4</th>\n      <td>73561</td>\n      <td>1.0</td>\n      <td>1.0</td>\n      <td>0.9125</td>\n      <td>0.50</td>\n      <td>0.4</td>\n      <td>0.0</td>\n      <td>1.0</td>\n      <td>0.0</td>\n      <td>0.0</td>\n      <td>...</td>\n      <td>0.177419</td>\n      <td>0.177755</td>\n      <td>0.5</td>\n      <td>0.105820</td>\n      <td>0.0</td>\n      <td>0.0</td>\n      <td>0.009058</td>\n      <td>0.004192</td>\n      <td>2.0</td>\n      <td>2.0</td>\n    </tr>\n  </tbody>\n</table>\n<p>5 rows × 358 columns</p>\n</div>"
     },
     "execution_count": 17,
     "metadata": {},
     "output_type": "execute_result"
    }
   ],
   "source": [
    "df_normalized2[:5]"
   ],
   "metadata": {
    "collapsed": false
   }
  },
  {
   "cell_type": "code",
   "execution_count": 18,
   "outputs": [],
   "source": [
    "save_files([df_normalized2], 'df_filling_missing_values_with_median_encoded_handle_noisy_handle_outlier_normalized.csv', base_path='../../../data/processed_data/')"
   ],
   "metadata": {
    "collapsed": false
   }
  }
 ],
 "metadata": {
  "kernelspec": {
   "display_name": "Python 3",
   "language": "python",
   "name": "python3"
  },
  "language_info": {
   "codemirror_mode": {
    "name": "ipython",
    "version": 2
   },
   "file_extension": ".py",
   "mimetype": "text/x-python",
   "name": "python",
   "nbconvert_exporter": "python",
   "pygments_lexer": "ipython2",
   "version": "2.7.6"
  }
 },
 "nbformat": 4,
 "nbformat_minor": 0
}
