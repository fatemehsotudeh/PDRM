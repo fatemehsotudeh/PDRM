{
 "cells": [
  {
   "cell_type": "markdown",
   "source": [
    "## 1- import and reading data"
   ],
   "metadata": {
    "collapsed": false
   }
  },
  {
   "cell_type": "code",
   "execution_count": 1,
   "outputs": [],
   "source": [
    "import sys\n",
    "sys.path.append('../../scripts/utilities/')\n",
    "from helper_functions import read_files"
   ],
   "metadata": {
    "collapsed": false
   }
  },
  {
   "cell_type": "code",
   "execution_count": 2,
   "outputs": [],
   "source": [
    "df_columnDefinitions, df_demographic, df_diet, df_examination , df_labs, df_questionnaire= \\\n",
    "    read_files('ColumnDefinitions.xlsx', 'demographic.csv','diet.csv','examination.csv','labs.csv','questionnaire.csv')"
   ],
   "metadata": {
    "collapsed": false
   }
  },
  {
   "cell_type": "markdown",
   "source": [
    "## 2- data understanding"
   ],
   "metadata": {
    "collapsed": false
   }
  },
  {
   "cell_type": "markdown",
   "source": [
    "**2.1** Dataframe shape\n",
    "**2.2** head\n",
    "**2.3** dtypes\n",
    "**2.4** describe\n",
    "**2.5** check missing values\n",
    "**2.6** check duplicates"
   ],
   "metadata": {
    "collapsed": false
   }
  },
  {
   "cell_type": "markdown",
   "source": [
    "<span style=\"color:orange\">2.1- Dataframe shape</span>"
   ],
   "metadata": {
    "collapsed": false
   }
  },
  {
   "cell_type": "code",
   "execution_count": 3,
   "outputs": [
    {
     "name": "stdout",
     "output_type": "stream",
     "text": [
      "ColumnDefinitions: (5383, 2)\n",
      "demographic: (10175, 47)\n",
      "diet: (9813, 168)\n",
      "examination: (9813, 224)\n",
      "labs: (9813, 424)\n",
      "questionnaire: (10175, 3)\n"
     ]
    }
   ],
   "source": [
    "datasets = [df_columnDefinitions, df_demographic, df_diet, df_examination, df_labs, df_questionnaire]\n",
    "dataset_names = ['ColumnDefinitions', 'demographic', 'diet', 'examination', 'labs', 'questionnaire']\n",
    "\n",
    "for name, df in zip(dataset_names, datasets):\n",
    "    print(f\"{name}: {df.shape}\")"
   ],
   "metadata": {
    "collapsed": false
   }
  },
  {
   "cell_type": "markdown",
   "source": [
    "<span style=\"color:orange\">2.2- head</span>"
   ],
   "metadata": {
    "collapsed": false
   }
  },
  {
   "cell_type": "code",
   "execution_count": 4,
   "outputs": [
    {
     "name": "stdout",
     "output_type": "stream",
     "text": [
      "ColumnDefinitions: \n",
      "   Variable Name                               Variable Description\n",
      "0          SEQN                        Respondent sequence number.\n",
      "1      RIDSTATR  Interview and examination status of the partic...\n",
      "2      RIAGENDR                         Gender of the participant.\n",
      "3      RIDAGEYR  Age in years of the participant at the time of...\n",
      "4      RIDAGEMN  Age in months of the participant at the time o...\n"
     ]
    }
   ],
   "source": [
    "print(f\"ColumnDefinitions: \\n {df_columnDefinitions.head(5)}\")"
   ],
   "metadata": {
    "collapsed": false
   }
  },
  {
   "cell_type": "code",
   "execution_count": 5,
   "outputs": [
    {
     "name": "stdout",
     "output_type": "stream",
     "text": [
      "demographic: \n",
      "     SEQN  SDDSRVYR  RIDSTATR  RIAGENDR  RIDAGEYR  RIDAGEMN  RIDRETH1  \\\n",
      "0  73557         8         2         1        69       NaN         4   \n",
      "1  73558         8         2         1        54       NaN         3   \n",
      "2  73559         8         2         1        72       NaN         3   \n",
      "3  73560         8         2         1         9       NaN         3   \n",
      "4  73561         8         2         2        73       NaN         3   \n",
      "\n",
      "   RIDRETH3  RIDEXMON  RIDEXAGM  ...  DMDHREDU  DMDHRMAR  DMDHSEDU  \\\n",
      "0         4       1.0       NaN  ...       3.0       4.0       NaN   \n",
      "1         3       1.0       NaN  ...       3.0       1.0       1.0   \n",
      "2         3       2.0       NaN  ...       4.0       1.0       3.0   \n",
      "3         3       1.0     119.0  ...       3.0       1.0       4.0   \n",
      "4         3       1.0       NaN  ...       5.0       1.0       5.0   \n",
      "\n",
      "       WTINT2YR      WTMEC2YR  SDMVPSU  SDMVSTRA  INDHHIN2  INDFMIN2  INDFMPIR  \n",
      "0  13281.237386  13481.042095        1       112       4.0       4.0      0.84  \n",
      "1  23682.057386  24471.769625        1       108       7.0       7.0      1.78  \n",
      "2  57214.803319  57193.285376        1       109      10.0      10.0      4.51  \n",
      "3  55201.178592  55766.512438        2       109       9.0       9.0      2.52  \n",
      "4  63709.667069  65541.871229        2       116      15.0      15.0      5.00  \n",
      "\n",
      "[5 rows x 47 columns]\n"
     ]
    }
   ],
   "source": [
    "print(f\"demographic: \\n {df_demographic.head(5)}\")"
   ],
   "metadata": {
    "collapsed": false
   }
  },
  {
   "cell_type": "code",
   "execution_count": 6,
   "outputs": [
    {
     "name": "stdout",
     "output_type": "stream",
     "text": [
      "diet: \n",
      "     SEQN         WTDRD1         WTDR2D  DR1DRSTZ  DR1EXMER  DRABF  DRDINT  \\\n",
      "0  73557   16888.327864   12930.890649         1      49.0    2.0     2.0   \n",
      "1  73558   17932.143865   12684.148869         1      59.0    2.0     2.0   \n",
      "2  73559   59641.812930   39394.236709         1      49.0    2.0     2.0   \n",
      "3  73560  142203.069917  125966.366442         1      54.0    2.0     2.0   \n",
      "4  73561   59052.357033   39004.892993         1      63.0    2.0     2.0   \n",
      "\n",
      "   DR1DBIH  DR1DAY  DR1LANG  ...  DRD370QQ  DRD370R  DRD370RQ  DRD370S  \\\n",
      "0      6.0     2.0      1.0  ...       NaN      NaN       NaN      NaN   \n",
      "1      4.0     1.0      1.0  ...       NaN      2.0       NaN      2.0   \n",
      "2     18.0     6.0      1.0  ...       NaN      NaN       NaN      NaN   \n",
      "3     21.0     3.0      1.0  ...       NaN      NaN       NaN      NaN   \n",
      "4     18.0     1.0      1.0  ...       NaN      2.0       NaN      2.0   \n",
      "\n",
      "   DRD370SQ  DRD370T  DRD370TQ  DRD370U  DRD370UQ  DRD370V  \n",
      "0       NaN      NaN       NaN      NaN       NaN      NaN  \n",
      "1       NaN      2.0       NaN      2.0       NaN      2.0  \n",
      "2       NaN      NaN       NaN      NaN       NaN      NaN  \n",
      "3       NaN      NaN       NaN      NaN       NaN      NaN  \n",
      "4       NaN      2.0       NaN      2.0       NaN      2.0  \n",
      "\n",
      "[5 rows x 168 columns]\n"
     ]
    }
   ],
   "source": [
    "print(f\"diet: \\n {df_diet.head(5)}\")"
   ],
   "metadata": {
    "collapsed": false
   }
  },
  {
   "cell_type": "code",
   "execution_count": 7,
   "outputs": [
    {
     "name": "stdout",
     "output_type": "stream",
     "text": [
      "examination: \n",
      "     SEQN  PEASCST1  PEASCTM1  PEASCCT1  BPXCHR  BPAARM  BPACSZ  BPXPLS  \\\n",
      "0  73557         1     620.0       NaN     NaN     1.0     4.0    86.0   \n",
      "1  73558         1     766.0       NaN     NaN     1.0     4.0    74.0   \n",
      "2  73559         1     665.0       NaN     NaN     1.0     4.0    68.0   \n",
      "3  73560         1     803.0       NaN     NaN     1.0     2.0    64.0   \n",
      "4  73561         1     949.0       NaN     NaN     1.0     3.0    92.0   \n",
      "\n",
      "   BPXPULS  BPXPTY  ...  CSXLEAOD  CSXSOAOD  CSXGRAOD  CSXONOD  CSXNGSOD  \\\n",
      "0      1.0     1.0  ...       2.0       1.0       1.0      1.0       4.0   \n",
      "1      1.0     1.0  ...       3.0       1.0       2.0      3.0       4.0   \n",
      "2      1.0     1.0  ...       2.0       1.0       2.0      3.0       4.0   \n",
      "3      1.0     1.0  ...       NaN       NaN       NaN      NaN       NaN   \n",
      "4      1.0     1.0  ...       3.0       1.0       4.0      3.0       4.0   \n",
      "\n",
      "   CSXSLTRT  CSXSLTRG  CSXNART  CSXNARG  CSAEFFRT  \n",
      "0      62.0       1.0      NaN      NaN       1.0  \n",
      "1      28.0       1.0      NaN      NaN       1.0  \n",
      "2      49.0       1.0      NaN      NaN       3.0  \n",
      "3       NaN       NaN      NaN      NaN       NaN  \n",
      "4       NaN       NaN      NaN      NaN       1.0  \n",
      "\n",
      "[5 rows x 224 columns]\n"
     ]
    }
   ],
   "source": [
    "print(f\"examination: \\n {df_examination.head(5)}\")"
   ],
   "metadata": {
    "collapsed": false
   }
  },
  {
   "cell_type": "code",
   "execution_count": 8,
   "outputs": [
    {
     "name": "stdout",
     "output_type": "stream",
     "text": [
      "labs: \n",
      "     SEQN  URXUMA  URXUMS  URXUCR.x   URXCRS  URDACT     WTSAF2YR.x  LBXAPB  \\\n",
      "0  73557     4.3     4.3      39.0   3447.6   11.03            NaN     NaN   \n",
      "1  73558   153.0   153.0      50.0   4420.0  306.00            NaN     NaN   \n",
      "2  73559    11.9    11.9     113.0   9989.2   10.53  142196.890197    57.0   \n",
      "3  73560    16.0    16.0      76.0   6718.4   21.05            NaN     NaN   \n",
      "4  73561   255.0   255.0     147.0  12994.8  173.47  142266.006548    92.0   \n",
      "\n",
      "   LBDAPBSI  LBXSAL  ...  URXUTL  URDUTLLC  URXUTU  URDUTULC  URXUUR  \\\n",
      "0       NaN     4.1  ...     NaN       NaN     NaN       NaN     NaN   \n",
      "1       NaN     4.7  ...     NaN       NaN     NaN       NaN     NaN   \n",
      "2      0.57     3.7  ...     NaN       NaN     NaN       NaN     NaN   \n",
      "3       NaN     NaN  ...   0.062       0.0   0.238       0.0  0.0071   \n",
      "4      0.92     4.3  ...     NaN       NaN     NaN       NaN     NaN   \n",
      "\n",
      "   URDUURLC  URXPREG  URXUAS  LBDB12  LBDB12SI  \n",
      "0       NaN      NaN     NaN   524.0     386.7  \n",
      "1       NaN      NaN     NaN   507.0     374.2  \n",
      "2       NaN      NaN     NaN   732.0     540.2  \n",
      "3       0.0      NaN    3.83     NaN       NaN  \n",
      "4       NaN      NaN     NaN   225.0     166.1  \n",
      "\n",
      "[5 rows x 424 columns]\n"
     ]
    }
   ],
   "source": [
    "print(f\"labs: \\n {df_labs.head(5)}\")"
   ],
   "metadata": {
    "collapsed": false
   }
  },
  {
   "cell_type": "code",
   "execution_count": 9,
   "outputs": [
    {
     "name": "stdout",
     "output_type": "stream",
     "text": [
      "questionnaire: \n",
      "     SEQN  MCQ160L  MCQ220\n",
      "0  73557      2.0     2.0\n",
      "1  73558      2.0     2.0\n",
      "2  73559      2.0     1.0\n",
      "3  73560      NaN     NaN\n",
      "4  73561      2.0     2.0\n"
     ]
    }
   ],
   "source": [
    "print(f\"questionnaire: \\n {df_questionnaire.head(5)}\")"
   ],
   "metadata": {
    "collapsed": false
   }
  },
  {
   "cell_type": "markdown",
   "source": [
    "<span style=\"color:orange\">2.3- dtypes</span>"
   ],
   "metadata": {
    "collapsed": false
   }
  },
  {
   "cell_type": "code",
   "execution_count": 10,
   "outputs": [
    {
     "name": "stdout",
     "output_type": "stream",
     "text": [
      "demographic: \n",
      " SEQN          int64\n",
      "SDDSRVYR      int64\n",
      "RIDSTATR      int64\n",
      "RIAGENDR      int64\n",
      "RIDAGEYR      int64\n",
      "RIDAGEMN    float64\n",
      "RIDRETH1      int64\n",
      "RIDRETH3      int64\n",
      "RIDEXMON    float64\n",
      "RIDEXAGM    float64\n",
      "DMQMILIZ    float64\n",
      "DMQADFC     float64\n",
      "DMDBORN4      int64\n",
      "DMDCITZN    float64\n",
      "DMDYRSUS    float64\n",
      "DMDEDUC3    float64\n",
      "DMDEDUC2    float64\n",
      "DMDMARTL    float64\n",
      "RIDEXPRG    float64\n",
      "SIALANG       int64\n",
      "SIAPROXY    float64\n",
      "SIAINTRP      int64\n",
      "FIALANG     float64\n",
      "FIAPROXY    float64\n",
      "FIAINTRP    float64\n",
      "MIALANG     float64\n",
      "MIAPROXY    float64\n",
      "MIAINTRP    float64\n",
      "AIALANGA    float64\n",
      "DMDHHSIZ      int64\n",
      "DMDFMSIZ      int64\n",
      "DMDHHSZA      int64\n",
      "DMDHHSZB      int64\n",
      "DMDHHSZE      int64\n",
      "DMDHRGND      int64\n",
      "DMDHRAGE      int64\n",
      "DMDHRBR4    float64\n",
      "DMDHREDU    float64\n",
      "DMDHRMAR    float64\n",
      "DMDHSEDU    float64\n",
      "WTINT2YR    float64\n",
      "WTMEC2YR    float64\n",
      "SDMVPSU       int64\n",
      "SDMVSTRA      int64\n",
      "INDHHIN2    float64\n",
      "INDFMIN2    float64\n",
      "INDFMPIR    float64\n",
      "dtype: object\n"
     ]
    }
   ],
   "source": [
    "print(f\"demographic: \\n {df_demographic.dtypes}\")"
   ],
   "metadata": {
    "collapsed": false
   }
  },
  {
   "cell_type": "code",
   "execution_count": 11,
   "outputs": [
    {
     "name": "stdout",
     "output_type": "stream",
     "text": [
      "diet: \n",
      " SEQN          int64\n",
      "WTDRD1      float64\n",
      "WTDR2D      float64\n",
      "DR1DRSTZ      int64\n",
      "DR1EXMER    float64\n",
      "             ...   \n",
      "DRD370T     float64\n",
      "DRD370TQ    float64\n",
      "DRD370U     float64\n",
      "DRD370UQ    float64\n",
      "DRD370V     float64\n",
      "Length: 168, dtype: object\n"
     ]
    }
   ],
   "source": [
    "print(f\"diet: \\n {df_diet.dtypes}\")"
   ],
   "metadata": {
    "collapsed": false
   }
  },
  {
   "cell_type": "code",
   "execution_count": 12,
   "outputs": [
    {
     "name": "stdout",
     "output_type": "stream",
     "text": [
      "examination: \n",
      " SEQN          int64\n",
      "PEASCST1      int64\n",
      "PEASCTM1    float64\n",
      "PEASCCT1    float64\n",
      "BPXCHR      float64\n",
      "             ...   \n",
      "CSXSLTRT    float64\n",
      "CSXSLTRG    float64\n",
      "CSXNART     float64\n",
      "CSXNARG     float64\n",
      "CSAEFFRT    float64\n",
      "Length: 224, dtype: object\n"
     ]
    }
   ],
   "source": [
    "print(f\"examination: \\n {df_examination.dtypes}\")"
   ],
   "metadata": {
    "collapsed": false
   }
  },
  {
   "cell_type": "code",
   "execution_count": 13,
   "outputs": [
    {
     "name": "stdout",
     "output_type": "stream",
     "text": [
      "labs: \n",
      " SEQN          int64\n",
      "URXUMA      float64\n",
      "URXUMS      float64\n",
      "URXUCR.x    float64\n",
      "URXCRS      float64\n",
      "             ...   \n",
      "URDUURLC    float64\n",
      "URXPREG     float64\n",
      "URXUAS      float64\n",
      "LBDB12      float64\n",
      "LBDB12SI    float64\n",
      "Length: 424, dtype: object\n"
     ]
    }
   ],
   "source": [
    "print(f\"labs: \\n {df_labs.dtypes}\")"
   ],
   "metadata": {
    "collapsed": false
   }
  },
  {
   "cell_type": "code",
   "execution_count": 14,
   "outputs": [
    {
     "name": "stdout",
     "output_type": "stream",
     "text": [
      "questionnaire: \n",
      " SEQN         int64\n",
      "MCQ160L    float64\n",
      "MCQ220     float64\n",
      "dtype: object\n"
     ]
    }
   ],
   "source": [
    "print(f\"questionnaire: \\n {df_questionnaire.dtypes}\")"
   ],
   "metadata": {
    "collapsed": false
   }
  },
  {
   "cell_type": "code",
   "execution_count": 15,
   "outputs": [
    {
     "name": "stdout",
     "output_type": "stream",
     "text": [
      "questionnaire: \n",
      " SEQN         int64\n",
      "MCQ160L    float64\n",
      "MCQ220     float64\n",
      "dtype: object\n"
     ]
    }
   ],
   "source": [
    "print(f\"questionnaire: \\n {df_questionnaire.dtypes}\")"
   ],
   "metadata": {
    "collapsed": false
   }
  },
  {
   "cell_type": "markdown",
   "source": [
    "<span style=\"color:orange\">2.4- describe</span>"
   ],
   "metadata": {
    "collapsed": false
   }
  },
  {
   "cell_type": "code",
   "execution_count": 16,
   "outputs": [
    {
     "data": {
      "text/plain": "               SEQN  SDDSRVYR      RIDSTATR      RIAGENDR      RIDAGEYR  \\\ncount  10175.000000   10175.0  10175.000000  10175.000000  10175.000000   \nmean   78644.000000       8.0      1.964423      1.508305     31.484128   \nstd     2937.413829       0.0      0.185243      0.499956     24.421651   \nmin    73557.000000       8.0      1.000000      1.000000      0.000000   \n25%    76100.500000       8.0      2.000000      1.000000     10.000000   \n50%    78644.000000       8.0      2.000000      2.000000     26.000000   \n75%    81187.500000       8.0      2.000000      2.000000     52.000000   \nmax    83731.000000       8.0      2.000000      2.000000     80.000000   \n\n         RIDAGEMN      RIDRETH1      RIDRETH3     RIDEXMON     RIDEXAGM  ...  \\\ncount  673.000000  10175.000000  10175.000000  9813.000000  4213.000000  ...   \nmean    10.341753      3.091892      3.289828     1.508509   107.478519  ...   \nstd      6.885479      1.263305      1.613241     0.499953    69.774776  ...   \nmin      0.000000      1.000000      1.000000     1.000000     0.000000  ...   \n25%      5.000000      2.000000      2.000000     1.000000    45.000000  ...   \n50%      9.000000      3.000000      3.000000     2.000000   103.000000  ...   \n75%     16.000000      4.000000      4.000000     2.000000   166.000000  ...   \nmax     24.000000      5.000000      7.000000     2.000000   239.000000  ...   \n\n          DMDHREDU      DMDHRMAR     DMDHSEDU       WTINT2YR       WTMEC2YR  \\\ncount  9881.000000  10052.000000  5342.000000   10175.000000   10175.000000   \nmean      3.502378      2.735078     3.612879   30585.180933   30585.180933   \nstd       1.251080      5.922690     1.321508   26948.427403   27941.005388   \nmin       1.000000      1.000000     1.000000    3697.772098       0.000000   \n25%       3.000000      1.000000     3.000000   12754.485277   12561.598665   \n50%       4.000000      1.000000     4.000000   20232.999616   20174.573544   \n75%       4.000000      4.000000     5.000000   36280.427224   36748.217798   \nmax       9.000000     99.000000     9.000000  167884.543709  171395.264901   \n\n            SDMVPSU      SDMVSTRA      INDHHIN2      INDFMIN2     INDFMPIR  \ncount  10175.000000  10175.000000  10042.000000  10052.000000  9390.000000  \nmean       1.484128    110.926880     10.884983     10.505969     2.252153  \nstd        0.499773      4.260322     13.878864     13.643064     1.634907  \nmin        1.000000    104.000000      1.000000      1.000000     0.000000  \n25%        1.000000    107.000000      5.000000      5.000000     0.870000  \n50%        1.000000    111.000000      8.000000      7.000000     1.705000  \n75%        2.000000    115.000000     14.000000     14.000000     3.607500  \nmax        2.000000    118.000000     99.000000     99.000000     5.000000  \n\n[8 rows x 47 columns]",
      "text/html": "<div>\n<style scoped>\n    .dataframe tbody tr th:only-of-type {\n        vertical-align: middle;\n    }\n\n    .dataframe tbody tr th {\n        vertical-align: top;\n    }\n\n    .dataframe thead th {\n        text-align: right;\n    }\n</style>\n<table border=\"1\" class=\"dataframe\">\n  <thead>\n    <tr style=\"text-align: right;\">\n      <th></th>\n      <th>SEQN</th>\n      <th>SDDSRVYR</th>\n      <th>RIDSTATR</th>\n      <th>RIAGENDR</th>\n      <th>RIDAGEYR</th>\n      <th>RIDAGEMN</th>\n      <th>RIDRETH1</th>\n      <th>RIDRETH3</th>\n      <th>RIDEXMON</th>\n      <th>RIDEXAGM</th>\n      <th>...</th>\n      <th>DMDHREDU</th>\n      <th>DMDHRMAR</th>\n      <th>DMDHSEDU</th>\n      <th>WTINT2YR</th>\n      <th>WTMEC2YR</th>\n      <th>SDMVPSU</th>\n      <th>SDMVSTRA</th>\n      <th>INDHHIN2</th>\n      <th>INDFMIN2</th>\n      <th>INDFMPIR</th>\n    </tr>\n  </thead>\n  <tbody>\n    <tr>\n      <th>count</th>\n      <td>10175.000000</td>\n      <td>10175.0</td>\n      <td>10175.000000</td>\n      <td>10175.000000</td>\n      <td>10175.000000</td>\n      <td>673.000000</td>\n      <td>10175.000000</td>\n      <td>10175.000000</td>\n      <td>9813.000000</td>\n      <td>4213.000000</td>\n      <td>...</td>\n      <td>9881.000000</td>\n      <td>10052.000000</td>\n      <td>5342.000000</td>\n      <td>10175.000000</td>\n      <td>10175.000000</td>\n      <td>10175.000000</td>\n      <td>10175.000000</td>\n      <td>10042.000000</td>\n      <td>10052.000000</td>\n      <td>9390.000000</td>\n    </tr>\n    <tr>\n      <th>mean</th>\n      <td>78644.000000</td>\n      <td>8.0</td>\n      <td>1.964423</td>\n      <td>1.508305</td>\n      <td>31.484128</td>\n      <td>10.341753</td>\n      <td>3.091892</td>\n      <td>3.289828</td>\n      <td>1.508509</td>\n      <td>107.478519</td>\n      <td>...</td>\n      <td>3.502378</td>\n      <td>2.735078</td>\n      <td>3.612879</td>\n      <td>30585.180933</td>\n      <td>30585.180933</td>\n      <td>1.484128</td>\n      <td>110.926880</td>\n      <td>10.884983</td>\n      <td>10.505969</td>\n      <td>2.252153</td>\n    </tr>\n    <tr>\n      <th>std</th>\n      <td>2937.413829</td>\n      <td>0.0</td>\n      <td>0.185243</td>\n      <td>0.499956</td>\n      <td>24.421651</td>\n      <td>6.885479</td>\n      <td>1.263305</td>\n      <td>1.613241</td>\n      <td>0.499953</td>\n      <td>69.774776</td>\n      <td>...</td>\n      <td>1.251080</td>\n      <td>5.922690</td>\n      <td>1.321508</td>\n      <td>26948.427403</td>\n      <td>27941.005388</td>\n      <td>0.499773</td>\n      <td>4.260322</td>\n      <td>13.878864</td>\n      <td>13.643064</td>\n      <td>1.634907</td>\n    </tr>\n    <tr>\n      <th>min</th>\n      <td>73557.000000</td>\n      <td>8.0</td>\n      <td>1.000000</td>\n      <td>1.000000</td>\n      <td>0.000000</td>\n      <td>0.000000</td>\n      <td>1.000000</td>\n      <td>1.000000</td>\n      <td>1.000000</td>\n      <td>0.000000</td>\n      <td>...</td>\n      <td>1.000000</td>\n      <td>1.000000</td>\n      <td>1.000000</td>\n      <td>3697.772098</td>\n      <td>0.000000</td>\n      <td>1.000000</td>\n      <td>104.000000</td>\n      <td>1.000000</td>\n      <td>1.000000</td>\n      <td>0.000000</td>\n    </tr>\n    <tr>\n      <th>25%</th>\n      <td>76100.500000</td>\n      <td>8.0</td>\n      <td>2.000000</td>\n      <td>1.000000</td>\n      <td>10.000000</td>\n      <td>5.000000</td>\n      <td>2.000000</td>\n      <td>2.000000</td>\n      <td>1.000000</td>\n      <td>45.000000</td>\n      <td>...</td>\n      <td>3.000000</td>\n      <td>1.000000</td>\n      <td>3.000000</td>\n      <td>12754.485277</td>\n      <td>12561.598665</td>\n      <td>1.000000</td>\n      <td>107.000000</td>\n      <td>5.000000</td>\n      <td>5.000000</td>\n      <td>0.870000</td>\n    </tr>\n    <tr>\n      <th>50%</th>\n      <td>78644.000000</td>\n      <td>8.0</td>\n      <td>2.000000</td>\n      <td>2.000000</td>\n      <td>26.000000</td>\n      <td>9.000000</td>\n      <td>3.000000</td>\n      <td>3.000000</td>\n      <td>2.000000</td>\n      <td>103.000000</td>\n      <td>...</td>\n      <td>4.000000</td>\n      <td>1.000000</td>\n      <td>4.000000</td>\n      <td>20232.999616</td>\n      <td>20174.573544</td>\n      <td>1.000000</td>\n      <td>111.000000</td>\n      <td>8.000000</td>\n      <td>7.000000</td>\n      <td>1.705000</td>\n    </tr>\n    <tr>\n      <th>75%</th>\n      <td>81187.500000</td>\n      <td>8.0</td>\n      <td>2.000000</td>\n      <td>2.000000</td>\n      <td>52.000000</td>\n      <td>16.000000</td>\n      <td>4.000000</td>\n      <td>4.000000</td>\n      <td>2.000000</td>\n      <td>166.000000</td>\n      <td>...</td>\n      <td>4.000000</td>\n      <td>4.000000</td>\n      <td>5.000000</td>\n      <td>36280.427224</td>\n      <td>36748.217798</td>\n      <td>2.000000</td>\n      <td>115.000000</td>\n      <td>14.000000</td>\n      <td>14.000000</td>\n      <td>3.607500</td>\n    </tr>\n    <tr>\n      <th>max</th>\n      <td>83731.000000</td>\n      <td>8.0</td>\n      <td>2.000000</td>\n      <td>2.000000</td>\n      <td>80.000000</td>\n      <td>24.000000</td>\n      <td>5.000000</td>\n      <td>7.000000</td>\n      <td>2.000000</td>\n      <td>239.000000</td>\n      <td>...</td>\n      <td>9.000000</td>\n      <td>99.000000</td>\n      <td>9.000000</td>\n      <td>167884.543709</td>\n      <td>171395.264901</td>\n      <td>2.000000</td>\n      <td>118.000000</td>\n      <td>99.000000</td>\n      <td>99.000000</td>\n      <td>5.000000</td>\n    </tr>\n  </tbody>\n</table>\n<p>8 rows × 47 columns</p>\n</div>"
     },
     "execution_count": 16,
     "metadata": {},
     "output_type": "execute_result"
    }
   ],
   "source": [
    "df_demographic.describe()"
   ],
   "metadata": {
    "collapsed": false
   }
  },
  {
   "cell_type": "code",
   "execution_count": 17,
   "outputs": [
    {
     "data": {
      "text/plain": "               SEQN         WTDRD1         WTDR2D     DR1DRSTZ     DR1EXMER  \\\ncount   9813.000000    9813.000000    8661.000000  9813.000000  8783.000000   \nmean   78644.559971   31713.463364   35931.672555     1.472027    43.793351   \nstd     2938.592266   36061.598495   51017.340117     1.260325    20.535725   \nmin    73557.000000       0.000000       0.000000     1.000000     2.000000   \n25%    76092.000000    8731.762120    7255.716712     1.000000    25.000000   \n50%    78643.000000   19276.118837   17874.047830     1.000000    49.000000   \n75%    81191.000000   42490.159621   44897.265674     1.000000    59.000000   \nmax    83731.000000  267526.890966  818626.657231     5.000000    91.000000   \n\n             DRABF       DRDINT      DR1DBIH       DR1DAY      DR1LANG  ...  \\\ncount  8661.000000  8661.000000  8706.000000  8783.000000  8797.000000  ...   \nmean      1.984528     1.874495    16.176085     4.501423     1.156303  ...   \nstd       0.123426     0.331310    11.804355     2.184283     0.555685  ...   \nmin       1.000000     1.000000   -31.000000     1.000000     1.000000  ...   \n25%       2.000000     2.000000     7.000000     3.000000     1.000000  ...   \n50%       2.000000     2.000000    16.000000     5.000000     1.000000  ...   \n75%       2.000000     2.000000    23.000000     6.000000     1.000000  ...   \nmax       2.000000     2.000000    74.000000     7.000000     6.000000  ...   \n\n        DRD370QQ      DRD370R    DRD370RQ      DRD370S   DRD370SQ  \\\ncount  61.000000  5121.000000  171.000000  5121.000000  27.000000   \nmean    1.557377     1.966608    1.766082     1.994728   2.481481   \nstd     1.443660     0.179675    1.184814     0.072427   2.651130   \nmin     1.000000     1.000000    1.000000     1.000000   1.000000   \n25%     1.000000     2.000000    1.000000     2.000000   1.000000   \n50%     1.000000     2.000000    1.000000     2.000000   1.000000   \n75%     1.000000     2.000000    2.000000     2.000000   2.500000   \nmax    10.000000     2.000000    8.000000     2.000000  10.000000   \n\n           DRD370T     DRD370TQ      DRD370U    DRD370UQ  DRD370V  \ncount  5121.000000  1318.000000  5121.000000  317.000000   5120.0  \nmean      1.742628     2.622155     1.938098    2.400631      2.0  \nstd       0.437229     2.793016     0.241001    2.997953      0.0  \nmin       1.000000     1.000000     1.000000    1.000000      2.0  \n25%       1.000000     1.000000     2.000000    1.000000      2.0  \n50%       2.000000     2.000000     2.000000    2.000000      2.0  \n75%       2.000000     3.000000     2.000000    2.000000      2.0  \nmax       2.000000    30.000000     2.000000   30.000000      2.0  \n\n[8 rows x 168 columns]",
      "text/html": "<div>\n<style scoped>\n    .dataframe tbody tr th:only-of-type {\n        vertical-align: middle;\n    }\n\n    .dataframe tbody tr th {\n        vertical-align: top;\n    }\n\n    .dataframe thead th {\n        text-align: right;\n    }\n</style>\n<table border=\"1\" class=\"dataframe\">\n  <thead>\n    <tr style=\"text-align: right;\">\n      <th></th>\n      <th>SEQN</th>\n      <th>WTDRD1</th>\n      <th>WTDR2D</th>\n      <th>DR1DRSTZ</th>\n      <th>DR1EXMER</th>\n      <th>DRABF</th>\n      <th>DRDINT</th>\n      <th>DR1DBIH</th>\n      <th>DR1DAY</th>\n      <th>DR1LANG</th>\n      <th>...</th>\n      <th>DRD370QQ</th>\n      <th>DRD370R</th>\n      <th>DRD370RQ</th>\n      <th>DRD370S</th>\n      <th>DRD370SQ</th>\n      <th>DRD370T</th>\n      <th>DRD370TQ</th>\n      <th>DRD370U</th>\n      <th>DRD370UQ</th>\n      <th>DRD370V</th>\n    </tr>\n  </thead>\n  <tbody>\n    <tr>\n      <th>count</th>\n      <td>9813.000000</td>\n      <td>9813.000000</td>\n      <td>8661.000000</td>\n      <td>9813.000000</td>\n      <td>8783.000000</td>\n      <td>8661.000000</td>\n      <td>8661.000000</td>\n      <td>8706.000000</td>\n      <td>8783.000000</td>\n      <td>8797.000000</td>\n      <td>...</td>\n      <td>61.000000</td>\n      <td>5121.000000</td>\n      <td>171.000000</td>\n      <td>5121.000000</td>\n      <td>27.000000</td>\n      <td>5121.000000</td>\n      <td>1318.000000</td>\n      <td>5121.000000</td>\n      <td>317.000000</td>\n      <td>5120.0</td>\n    </tr>\n    <tr>\n      <th>mean</th>\n      <td>78644.559971</td>\n      <td>31713.463364</td>\n      <td>35931.672555</td>\n      <td>1.472027</td>\n      <td>43.793351</td>\n      <td>1.984528</td>\n      <td>1.874495</td>\n      <td>16.176085</td>\n      <td>4.501423</td>\n      <td>1.156303</td>\n      <td>...</td>\n      <td>1.557377</td>\n      <td>1.966608</td>\n      <td>1.766082</td>\n      <td>1.994728</td>\n      <td>2.481481</td>\n      <td>1.742628</td>\n      <td>2.622155</td>\n      <td>1.938098</td>\n      <td>2.400631</td>\n      <td>2.0</td>\n    </tr>\n    <tr>\n      <th>std</th>\n      <td>2938.592266</td>\n      <td>36061.598495</td>\n      <td>51017.340117</td>\n      <td>1.260325</td>\n      <td>20.535725</td>\n      <td>0.123426</td>\n      <td>0.331310</td>\n      <td>11.804355</td>\n      <td>2.184283</td>\n      <td>0.555685</td>\n      <td>...</td>\n      <td>1.443660</td>\n      <td>0.179675</td>\n      <td>1.184814</td>\n      <td>0.072427</td>\n      <td>2.651130</td>\n      <td>0.437229</td>\n      <td>2.793016</td>\n      <td>0.241001</td>\n      <td>2.997953</td>\n      <td>0.0</td>\n    </tr>\n    <tr>\n      <th>min</th>\n      <td>73557.000000</td>\n      <td>0.000000</td>\n      <td>0.000000</td>\n      <td>1.000000</td>\n      <td>2.000000</td>\n      <td>1.000000</td>\n      <td>1.000000</td>\n      <td>-31.000000</td>\n      <td>1.000000</td>\n      <td>1.000000</td>\n      <td>...</td>\n      <td>1.000000</td>\n      <td>1.000000</td>\n      <td>1.000000</td>\n      <td>1.000000</td>\n      <td>1.000000</td>\n      <td>1.000000</td>\n      <td>1.000000</td>\n      <td>1.000000</td>\n      <td>1.000000</td>\n      <td>2.0</td>\n    </tr>\n    <tr>\n      <th>25%</th>\n      <td>76092.000000</td>\n      <td>8731.762120</td>\n      <td>7255.716712</td>\n      <td>1.000000</td>\n      <td>25.000000</td>\n      <td>2.000000</td>\n      <td>2.000000</td>\n      <td>7.000000</td>\n      <td>3.000000</td>\n      <td>1.000000</td>\n      <td>...</td>\n      <td>1.000000</td>\n      <td>2.000000</td>\n      <td>1.000000</td>\n      <td>2.000000</td>\n      <td>1.000000</td>\n      <td>1.000000</td>\n      <td>1.000000</td>\n      <td>2.000000</td>\n      <td>1.000000</td>\n      <td>2.0</td>\n    </tr>\n    <tr>\n      <th>50%</th>\n      <td>78643.000000</td>\n      <td>19276.118837</td>\n      <td>17874.047830</td>\n      <td>1.000000</td>\n      <td>49.000000</td>\n      <td>2.000000</td>\n      <td>2.000000</td>\n      <td>16.000000</td>\n      <td>5.000000</td>\n      <td>1.000000</td>\n      <td>...</td>\n      <td>1.000000</td>\n      <td>2.000000</td>\n      <td>1.000000</td>\n      <td>2.000000</td>\n      <td>1.000000</td>\n      <td>2.000000</td>\n      <td>2.000000</td>\n      <td>2.000000</td>\n      <td>2.000000</td>\n      <td>2.0</td>\n    </tr>\n    <tr>\n      <th>75%</th>\n      <td>81191.000000</td>\n      <td>42490.159621</td>\n      <td>44897.265674</td>\n      <td>1.000000</td>\n      <td>59.000000</td>\n      <td>2.000000</td>\n      <td>2.000000</td>\n      <td>23.000000</td>\n      <td>6.000000</td>\n      <td>1.000000</td>\n      <td>...</td>\n      <td>1.000000</td>\n      <td>2.000000</td>\n      <td>2.000000</td>\n      <td>2.000000</td>\n      <td>2.500000</td>\n      <td>2.000000</td>\n      <td>3.000000</td>\n      <td>2.000000</td>\n      <td>2.000000</td>\n      <td>2.0</td>\n    </tr>\n    <tr>\n      <th>max</th>\n      <td>83731.000000</td>\n      <td>267526.890966</td>\n      <td>818626.657231</td>\n      <td>5.000000</td>\n      <td>91.000000</td>\n      <td>2.000000</td>\n      <td>2.000000</td>\n      <td>74.000000</td>\n      <td>7.000000</td>\n      <td>6.000000</td>\n      <td>...</td>\n      <td>10.000000</td>\n      <td>2.000000</td>\n      <td>8.000000</td>\n      <td>2.000000</td>\n      <td>10.000000</td>\n      <td>2.000000</td>\n      <td>30.000000</td>\n      <td>2.000000</td>\n      <td>30.000000</td>\n      <td>2.0</td>\n    </tr>\n  </tbody>\n</table>\n<p>8 rows × 168 columns</p>\n</div>"
     },
     "execution_count": 17,
     "metadata": {},
     "output_type": "execute_result"
    }
   ],
   "source": [
    "df_diet.describe()"
   ],
   "metadata": {
    "collapsed": false
   }
  },
  {
   "cell_type": "code",
   "execution_count": 18,
   "outputs": [
    {
     "data": {
      "text/plain": "               SEQN     PEASCST1     PEASCTM1    PEASCCT1       BPXCHR  \\\ncount   9813.000000  9813.000000  9508.000000  320.000000  1961.000000   \nmean   78644.559971     1.064914   660.584034   57.828125   105.534931   \nstd     2938.592266     0.354007   275.431642   30.788160    21.516295   \nmin    73557.000000     1.000000     7.000000    1.000000    60.000000   \n25%    76092.000000     1.000000   578.000000   56.000000    88.000000   \n50%    78643.000000     1.000000   689.000000   56.000000   102.000000   \n75%    81191.000000     1.000000   832.000000   72.000000   120.000000   \nmax    83731.000000     3.000000  2868.000000  122.000000   178.000000   \n\n            BPAARM       BPACSZ       BPXPLS      BPXPULS       BPXPTY  ...  \\\ncount  7535.000000  7542.000000  7549.000000  9511.000000  7564.000000  ...   \nmean      1.008096     3.675418    74.416214     1.013668     1.004363  ...   \nstd       0.116644     0.786221    12.367969     0.116116     0.065911  ...   \nmin       1.000000     1.000000    40.000000     1.000000     1.000000  ...   \n25%       1.000000     3.000000    66.000000     1.000000     1.000000  ...   \n50%       1.000000     4.000000    74.000000     1.000000     1.000000  ...   \n75%       1.000000     4.000000    82.000000     1.000000     1.000000  ...   \nmax       8.000000     5.000000   180.000000     2.000000     2.000000  ...   \n\n          CSXLEAOD     CSXSOAOD     CSXGRAOD      CSXONOD     CSXNGSOD  \\\ncount  3520.000000  3520.000000  3519.000000  3519.000000  3519.000000   \nmean      2.815625     1.145170     2.155726     2.992327     3.751066   \nstd       0.613697     0.548531     0.667754     0.318464     0.693496   \nmin       1.000000     1.000000     1.000000     1.000000     1.000000   \n25%       3.000000     1.000000     2.000000     3.000000     4.000000   \n50%       3.000000     1.000000     2.000000     3.000000     4.000000   \n75%       3.000000     1.000000     3.000000     3.000000     4.000000   \nmax       4.000000     4.000000     4.000000     4.000000     4.000000   \n\n          CSXSLTRT     CSXSLTRG      CSXNART      CSXNARG     CSAEFFRT  \ncount  1595.000000  1595.000000  1613.000000  1613.000000  3537.000000  \nmean     55.746708     1.066458    31.526348     1.199008     1.709075  \nstd      24.649127     0.441677    20.925161     0.690739     0.898975  \nmin       1.000000     1.000000     0.000000     1.000000     1.000000  \n25%      35.000000     1.000000    16.000000     1.000000     1.000000  \n50%      53.000000     1.000000    26.000000     1.000000     1.000000  \n75%      74.000000     1.000000    42.000000     1.000000     2.000000  \nmax     100.000000     5.000000   100.000000     5.000000     5.000000  \n\n[8 rows x 195 columns]",
      "text/html": "<div>\n<style scoped>\n    .dataframe tbody tr th:only-of-type {\n        vertical-align: middle;\n    }\n\n    .dataframe tbody tr th {\n        vertical-align: top;\n    }\n\n    .dataframe thead th {\n        text-align: right;\n    }\n</style>\n<table border=\"1\" class=\"dataframe\">\n  <thead>\n    <tr style=\"text-align: right;\">\n      <th></th>\n      <th>SEQN</th>\n      <th>PEASCST1</th>\n      <th>PEASCTM1</th>\n      <th>PEASCCT1</th>\n      <th>BPXCHR</th>\n      <th>BPAARM</th>\n      <th>BPACSZ</th>\n      <th>BPXPLS</th>\n      <th>BPXPULS</th>\n      <th>BPXPTY</th>\n      <th>...</th>\n      <th>CSXLEAOD</th>\n      <th>CSXSOAOD</th>\n      <th>CSXGRAOD</th>\n      <th>CSXONOD</th>\n      <th>CSXNGSOD</th>\n      <th>CSXSLTRT</th>\n      <th>CSXSLTRG</th>\n      <th>CSXNART</th>\n      <th>CSXNARG</th>\n      <th>CSAEFFRT</th>\n    </tr>\n  </thead>\n  <tbody>\n    <tr>\n      <th>count</th>\n      <td>9813.000000</td>\n      <td>9813.000000</td>\n      <td>9508.000000</td>\n      <td>320.000000</td>\n      <td>1961.000000</td>\n      <td>7535.000000</td>\n      <td>7542.000000</td>\n      <td>7549.000000</td>\n      <td>9511.000000</td>\n      <td>7564.000000</td>\n      <td>...</td>\n      <td>3520.000000</td>\n      <td>3520.000000</td>\n      <td>3519.000000</td>\n      <td>3519.000000</td>\n      <td>3519.000000</td>\n      <td>1595.000000</td>\n      <td>1595.000000</td>\n      <td>1613.000000</td>\n      <td>1613.000000</td>\n      <td>3537.000000</td>\n    </tr>\n    <tr>\n      <th>mean</th>\n      <td>78644.559971</td>\n      <td>1.064914</td>\n      <td>660.584034</td>\n      <td>57.828125</td>\n      <td>105.534931</td>\n      <td>1.008096</td>\n      <td>3.675418</td>\n      <td>74.416214</td>\n      <td>1.013668</td>\n      <td>1.004363</td>\n      <td>...</td>\n      <td>2.815625</td>\n      <td>1.145170</td>\n      <td>2.155726</td>\n      <td>2.992327</td>\n      <td>3.751066</td>\n      <td>55.746708</td>\n      <td>1.066458</td>\n      <td>31.526348</td>\n      <td>1.199008</td>\n      <td>1.709075</td>\n    </tr>\n    <tr>\n      <th>std</th>\n      <td>2938.592266</td>\n      <td>0.354007</td>\n      <td>275.431642</td>\n      <td>30.788160</td>\n      <td>21.516295</td>\n      <td>0.116644</td>\n      <td>0.786221</td>\n      <td>12.367969</td>\n      <td>0.116116</td>\n      <td>0.065911</td>\n      <td>...</td>\n      <td>0.613697</td>\n      <td>0.548531</td>\n      <td>0.667754</td>\n      <td>0.318464</td>\n      <td>0.693496</td>\n      <td>24.649127</td>\n      <td>0.441677</td>\n      <td>20.925161</td>\n      <td>0.690739</td>\n      <td>0.898975</td>\n    </tr>\n    <tr>\n      <th>min</th>\n      <td>73557.000000</td>\n      <td>1.000000</td>\n      <td>7.000000</td>\n      <td>1.000000</td>\n      <td>60.000000</td>\n      <td>1.000000</td>\n      <td>1.000000</td>\n      <td>40.000000</td>\n      <td>1.000000</td>\n      <td>1.000000</td>\n      <td>...</td>\n      <td>1.000000</td>\n      <td>1.000000</td>\n      <td>1.000000</td>\n      <td>1.000000</td>\n      <td>1.000000</td>\n      <td>1.000000</td>\n      <td>1.000000</td>\n      <td>0.000000</td>\n      <td>1.000000</td>\n      <td>1.000000</td>\n    </tr>\n    <tr>\n      <th>25%</th>\n      <td>76092.000000</td>\n      <td>1.000000</td>\n      <td>578.000000</td>\n      <td>56.000000</td>\n      <td>88.000000</td>\n      <td>1.000000</td>\n      <td>3.000000</td>\n      <td>66.000000</td>\n      <td>1.000000</td>\n      <td>1.000000</td>\n      <td>...</td>\n      <td>3.000000</td>\n      <td>1.000000</td>\n      <td>2.000000</td>\n      <td>3.000000</td>\n      <td>4.000000</td>\n      <td>35.000000</td>\n      <td>1.000000</td>\n      <td>16.000000</td>\n      <td>1.000000</td>\n      <td>1.000000</td>\n    </tr>\n    <tr>\n      <th>50%</th>\n      <td>78643.000000</td>\n      <td>1.000000</td>\n      <td>689.000000</td>\n      <td>56.000000</td>\n      <td>102.000000</td>\n      <td>1.000000</td>\n      <td>4.000000</td>\n      <td>74.000000</td>\n      <td>1.000000</td>\n      <td>1.000000</td>\n      <td>...</td>\n      <td>3.000000</td>\n      <td>1.000000</td>\n      <td>2.000000</td>\n      <td>3.000000</td>\n      <td>4.000000</td>\n      <td>53.000000</td>\n      <td>1.000000</td>\n      <td>26.000000</td>\n      <td>1.000000</td>\n      <td>1.000000</td>\n    </tr>\n    <tr>\n      <th>75%</th>\n      <td>81191.000000</td>\n      <td>1.000000</td>\n      <td>832.000000</td>\n      <td>72.000000</td>\n      <td>120.000000</td>\n      <td>1.000000</td>\n      <td>4.000000</td>\n      <td>82.000000</td>\n      <td>1.000000</td>\n      <td>1.000000</td>\n      <td>...</td>\n      <td>3.000000</td>\n      <td>1.000000</td>\n      <td>3.000000</td>\n      <td>3.000000</td>\n      <td>4.000000</td>\n      <td>74.000000</td>\n      <td>1.000000</td>\n      <td>42.000000</td>\n      <td>1.000000</td>\n      <td>2.000000</td>\n    </tr>\n    <tr>\n      <th>max</th>\n      <td>83731.000000</td>\n      <td>3.000000</td>\n      <td>2868.000000</td>\n      <td>122.000000</td>\n      <td>178.000000</td>\n      <td>8.000000</td>\n      <td>5.000000</td>\n      <td>180.000000</td>\n      <td>2.000000</td>\n      <td>2.000000</td>\n      <td>...</td>\n      <td>4.000000</td>\n      <td>4.000000</td>\n      <td>4.000000</td>\n      <td>4.000000</td>\n      <td>4.000000</td>\n      <td>100.000000</td>\n      <td>5.000000</td>\n      <td>100.000000</td>\n      <td>5.000000</td>\n      <td>5.000000</td>\n    </tr>\n  </tbody>\n</table>\n<p>8 rows × 195 columns</p>\n</div>"
     },
     "execution_count": 18,
     "metadata": {},
     "output_type": "execute_result"
    }
   ],
   "source": [
    "df_examination.describe()"
   ],
   "metadata": {
    "collapsed": false
   }
  },
  {
   "cell_type": "code",
   "execution_count": 19,
   "outputs": [
    {
     "data": {
      "text/plain": "               SEQN       URXUMA       URXUMS     URXUCR.x        URXCRS  \\\ncount   9813.000000  8052.000000  8052.000000  8052.000000   8052.000000   \nmean   78644.559971    41.218854    41.218854   121.072529  10702.811525   \nstd     2938.592266   238.910226   238.910226    78.574882   6946.019595   \nmin    73557.000000     0.210000     0.210000     5.000000    442.000000   \n25%    76092.000000     4.500000     4.500000    60.000000   5304.000000   \n50%    78643.000000     8.400000     8.400000   106.000000   9370.400000   \n75%    81191.000000    17.625000    17.625000   163.000000  14409.200000   \nmax    83731.000000  9600.000000  9600.000000   659.000000  58255.600000   \n\n            URDACT     WTSAF2YR.x       LBXAPB     LBDAPBSI       LBXSAL  ...  \\\ncount  8052.000000    3329.000000  3145.000000  3145.000000  6553.000000  ...   \nmean     41.905695   78917.195254    85.898569     0.858986     4.282085  ...   \nstd     276.261093   71088.020067    25.595258     0.255953     0.343649  ...   \nmin       0.210000       0.000000    20.000000     0.200000     2.400000  ...   \n25%       5.020000   33217.405018    68.000000     0.680000     4.100000  ...   \n50%       7.780000   56397.702304    84.000000     0.840000     4.300000  ...   \n75%      15.295000   99356.561999   101.000000     1.010000     4.500000  ...   \nmax    9000.000000  395978.465792   234.000000     2.340000     5.600000  ...   \n\n            URXUTL     URDUTLLC       URXUTU     URDUTULC       URXUUR  \\\ncount  2664.000000  2664.000000  2664.000000  2664.000000  2664.000000   \nmean      0.186950     0.007883     0.150535     0.162162     0.012038   \nstd       0.133833     0.088452     0.576409     0.368669     0.034026   \nmin       0.013000     0.000000     0.013000     0.000000     0.001400   \n25%       0.090000     0.000000     0.028000     0.000000     0.002600   \n50%       0.159000     0.000000     0.069000     0.000000     0.005100   \n75%       0.252000     0.000000     0.150000     0.000000     0.010700   \nmax       1.290000     1.000000    25.760000     1.000000     0.843400   \n\n          URDUURLC      URXPREG       URXUAS        LBDB12      LBDB12SI  \ncount  2664.000000  1261.000000  2662.000000   5316.000000   5316.000000  \nmean      0.177177     1.969072    15.670639    640.100263    472.394865  \nstd       0.381890     0.251651    46.735936    751.967084    554.951537  \nmin       0.000000     1.000000     0.280000     18.000000     13.300000  \n25%       0.000000     2.000000     3.210000    381.000000    281.200000  \n50%       0.000000     2.000000     6.240000    514.000000    379.300000  \n75%       0.000000     2.000000    12.435000    711.000000    524.700000  \nmax       1.000000     3.000000  1071.300000  26801.000000  19779.100000  \n\n[8 rows x 424 columns]",
      "text/html": "<div>\n<style scoped>\n    .dataframe tbody tr th:only-of-type {\n        vertical-align: middle;\n    }\n\n    .dataframe tbody tr th {\n        vertical-align: top;\n    }\n\n    .dataframe thead th {\n        text-align: right;\n    }\n</style>\n<table border=\"1\" class=\"dataframe\">\n  <thead>\n    <tr style=\"text-align: right;\">\n      <th></th>\n      <th>SEQN</th>\n      <th>URXUMA</th>\n      <th>URXUMS</th>\n      <th>URXUCR.x</th>\n      <th>URXCRS</th>\n      <th>URDACT</th>\n      <th>WTSAF2YR.x</th>\n      <th>LBXAPB</th>\n      <th>LBDAPBSI</th>\n      <th>LBXSAL</th>\n      <th>...</th>\n      <th>URXUTL</th>\n      <th>URDUTLLC</th>\n      <th>URXUTU</th>\n      <th>URDUTULC</th>\n      <th>URXUUR</th>\n      <th>URDUURLC</th>\n      <th>URXPREG</th>\n      <th>URXUAS</th>\n      <th>LBDB12</th>\n      <th>LBDB12SI</th>\n    </tr>\n  </thead>\n  <tbody>\n    <tr>\n      <th>count</th>\n      <td>9813.000000</td>\n      <td>8052.000000</td>\n      <td>8052.000000</td>\n      <td>8052.000000</td>\n      <td>8052.000000</td>\n      <td>8052.000000</td>\n      <td>3329.000000</td>\n      <td>3145.000000</td>\n      <td>3145.000000</td>\n      <td>6553.000000</td>\n      <td>...</td>\n      <td>2664.000000</td>\n      <td>2664.000000</td>\n      <td>2664.000000</td>\n      <td>2664.000000</td>\n      <td>2664.000000</td>\n      <td>2664.000000</td>\n      <td>1261.000000</td>\n      <td>2662.000000</td>\n      <td>5316.000000</td>\n      <td>5316.000000</td>\n    </tr>\n    <tr>\n      <th>mean</th>\n      <td>78644.559971</td>\n      <td>41.218854</td>\n      <td>41.218854</td>\n      <td>121.072529</td>\n      <td>10702.811525</td>\n      <td>41.905695</td>\n      <td>78917.195254</td>\n      <td>85.898569</td>\n      <td>0.858986</td>\n      <td>4.282085</td>\n      <td>...</td>\n      <td>0.186950</td>\n      <td>0.007883</td>\n      <td>0.150535</td>\n      <td>0.162162</td>\n      <td>0.012038</td>\n      <td>0.177177</td>\n      <td>1.969072</td>\n      <td>15.670639</td>\n      <td>640.100263</td>\n      <td>472.394865</td>\n    </tr>\n    <tr>\n      <th>std</th>\n      <td>2938.592266</td>\n      <td>238.910226</td>\n      <td>238.910226</td>\n      <td>78.574882</td>\n      <td>6946.019595</td>\n      <td>276.261093</td>\n      <td>71088.020067</td>\n      <td>25.595258</td>\n      <td>0.255953</td>\n      <td>0.343649</td>\n      <td>...</td>\n      <td>0.133833</td>\n      <td>0.088452</td>\n      <td>0.576409</td>\n      <td>0.368669</td>\n      <td>0.034026</td>\n      <td>0.381890</td>\n      <td>0.251651</td>\n      <td>46.735936</td>\n      <td>751.967084</td>\n      <td>554.951537</td>\n    </tr>\n    <tr>\n      <th>min</th>\n      <td>73557.000000</td>\n      <td>0.210000</td>\n      <td>0.210000</td>\n      <td>5.000000</td>\n      <td>442.000000</td>\n      <td>0.210000</td>\n      <td>0.000000</td>\n      <td>20.000000</td>\n      <td>0.200000</td>\n      <td>2.400000</td>\n      <td>...</td>\n      <td>0.013000</td>\n      <td>0.000000</td>\n      <td>0.013000</td>\n      <td>0.000000</td>\n      <td>0.001400</td>\n      <td>0.000000</td>\n      <td>1.000000</td>\n      <td>0.280000</td>\n      <td>18.000000</td>\n      <td>13.300000</td>\n    </tr>\n    <tr>\n      <th>25%</th>\n      <td>76092.000000</td>\n      <td>4.500000</td>\n      <td>4.500000</td>\n      <td>60.000000</td>\n      <td>5304.000000</td>\n      <td>5.020000</td>\n      <td>33217.405018</td>\n      <td>68.000000</td>\n      <td>0.680000</td>\n      <td>4.100000</td>\n      <td>...</td>\n      <td>0.090000</td>\n      <td>0.000000</td>\n      <td>0.028000</td>\n      <td>0.000000</td>\n      <td>0.002600</td>\n      <td>0.000000</td>\n      <td>2.000000</td>\n      <td>3.210000</td>\n      <td>381.000000</td>\n      <td>281.200000</td>\n    </tr>\n    <tr>\n      <th>50%</th>\n      <td>78643.000000</td>\n      <td>8.400000</td>\n      <td>8.400000</td>\n      <td>106.000000</td>\n      <td>9370.400000</td>\n      <td>7.780000</td>\n      <td>56397.702304</td>\n      <td>84.000000</td>\n      <td>0.840000</td>\n      <td>4.300000</td>\n      <td>...</td>\n      <td>0.159000</td>\n      <td>0.000000</td>\n      <td>0.069000</td>\n      <td>0.000000</td>\n      <td>0.005100</td>\n      <td>0.000000</td>\n      <td>2.000000</td>\n      <td>6.240000</td>\n      <td>514.000000</td>\n      <td>379.300000</td>\n    </tr>\n    <tr>\n      <th>75%</th>\n      <td>81191.000000</td>\n      <td>17.625000</td>\n      <td>17.625000</td>\n      <td>163.000000</td>\n      <td>14409.200000</td>\n      <td>15.295000</td>\n      <td>99356.561999</td>\n      <td>101.000000</td>\n      <td>1.010000</td>\n      <td>4.500000</td>\n      <td>...</td>\n      <td>0.252000</td>\n      <td>0.000000</td>\n      <td>0.150000</td>\n      <td>0.000000</td>\n      <td>0.010700</td>\n      <td>0.000000</td>\n      <td>2.000000</td>\n      <td>12.435000</td>\n      <td>711.000000</td>\n      <td>524.700000</td>\n    </tr>\n    <tr>\n      <th>max</th>\n      <td>83731.000000</td>\n      <td>9600.000000</td>\n      <td>9600.000000</td>\n      <td>659.000000</td>\n      <td>58255.600000</td>\n      <td>9000.000000</td>\n      <td>395978.465792</td>\n      <td>234.000000</td>\n      <td>2.340000</td>\n      <td>5.600000</td>\n      <td>...</td>\n      <td>1.290000</td>\n      <td>1.000000</td>\n      <td>25.760000</td>\n      <td>1.000000</td>\n      <td>0.843400</td>\n      <td>1.000000</td>\n      <td>3.000000</td>\n      <td>1071.300000</td>\n      <td>26801.000000</td>\n      <td>19779.100000</td>\n    </tr>\n  </tbody>\n</table>\n<p>8 rows × 424 columns</p>\n</div>"
     },
     "execution_count": 19,
     "metadata": {},
     "output_type": "execute_result"
    }
   ],
   "source": [
    "df_labs.describe()"
   ],
   "metadata": {
    "collapsed": false
   }
  },
  {
   "cell_type": "code",
   "execution_count": 20,
   "outputs": [
    {
     "data": {
      "text/plain": "               SEQN      MCQ160L       MCQ220\ncount  10175.000000  5769.000000  5769.000000\nmean   78644.000000     1.971572     1.905183\nstd     2937.413829     0.353146     0.292988\nmin    73557.000000     1.000000     1.000000\n25%    76100.500000     2.000000     2.000000\n50%    78644.000000     2.000000     2.000000\n75%    81187.500000     2.000000     2.000000\nmax    83731.000000     9.000000     2.000000",
      "text/html": "<div>\n<style scoped>\n    .dataframe tbody tr th:only-of-type {\n        vertical-align: middle;\n    }\n\n    .dataframe tbody tr th {\n        vertical-align: top;\n    }\n\n    .dataframe thead th {\n        text-align: right;\n    }\n</style>\n<table border=\"1\" class=\"dataframe\">\n  <thead>\n    <tr style=\"text-align: right;\">\n      <th></th>\n      <th>SEQN</th>\n      <th>MCQ160L</th>\n      <th>MCQ220</th>\n    </tr>\n  </thead>\n  <tbody>\n    <tr>\n      <th>count</th>\n      <td>10175.000000</td>\n      <td>5769.000000</td>\n      <td>5769.000000</td>\n    </tr>\n    <tr>\n      <th>mean</th>\n      <td>78644.000000</td>\n      <td>1.971572</td>\n      <td>1.905183</td>\n    </tr>\n    <tr>\n      <th>std</th>\n      <td>2937.413829</td>\n      <td>0.353146</td>\n      <td>0.292988</td>\n    </tr>\n    <tr>\n      <th>min</th>\n      <td>73557.000000</td>\n      <td>1.000000</td>\n      <td>1.000000</td>\n    </tr>\n    <tr>\n      <th>25%</th>\n      <td>76100.500000</td>\n      <td>2.000000</td>\n      <td>2.000000</td>\n    </tr>\n    <tr>\n      <th>50%</th>\n      <td>78644.000000</td>\n      <td>2.000000</td>\n      <td>2.000000</td>\n    </tr>\n    <tr>\n      <th>75%</th>\n      <td>81187.500000</td>\n      <td>2.000000</td>\n      <td>2.000000</td>\n    </tr>\n    <tr>\n      <th>max</th>\n      <td>83731.000000</td>\n      <td>9.000000</td>\n      <td>2.000000</td>\n    </tr>\n  </tbody>\n</table>\n</div>"
     },
     "execution_count": 20,
     "metadata": {},
     "output_type": "execute_result"
    }
   ],
   "source": [
    "df_questionnaire.describe()"
   ],
   "metadata": {
    "collapsed": false
   }
  },
  {
   "cell_type": "markdown",
   "source": [
    "<span style=\"color:orange\">2.5- check missing values</span>"
   ],
   "metadata": {
    "collapsed": false
   }
  },
  {
   "cell_type": "code",
   "execution_count": 21,
   "outputs": [
    {
     "data": {
      "text/plain": "SEQN           0\nSDDSRVYR       0\nRIDSTATR       0\nRIAGENDR       0\nRIDAGEYR       0\nRIDAGEMN    9502\nRIDRETH1       0\nRIDRETH3       0\nRIDEXMON     362\nRIDEXAGM    5962\nDMQMILIZ    3914\nDMQADFC     9632\nDMDBORN4       0\nDMDCITZN       4\nDMDYRSUS    8267\nDMDEDUC3    7372\nDMDEDUC2    4406\nDMDMARTL    4406\nRIDEXPRG    8866\nSIALANG        0\nSIAPROXY       1\nSIAINTRP       0\nFIALANG      121\nFIAPROXY     121\nFIAINTRP     121\nMIALANG     2864\nMIAPROXY    2863\nMIAINTRP    2862\nAIALANGA    3858\nDMDHHSIZ       0\nDMDFMSIZ       0\nDMDHHSZA       0\nDMDHHSZB       0\nDMDHHSZE       0\nDMDHRGND       0\nDMDHRAGE       0\nDMDHRBR4     297\nDMDHREDU     294\nDMDHRMAR     123\nDMDHSEDU    4833\nWTINT2YR       0\nWTMEC2YR       0\nSDMVPSU        0\nSDMVSTRA       0\nINDHHIN2     133\nINDFMIN2     123\nINDFMPIR     785\ndtype: int64"
     },
     "execution_count": 21,
     "metadata": {},
     "output_type": "execute_result"
    }
   ],
   "source": [
    "df_demographic.isnull().sum()"
   ],
   "metadata": {
    "collapsed": false
   }
  },
  {
   "cell_type": "code",
   "execution_count": 22,
   "outputs": [
    {
     "data": {
      "text/plain": "SEQN         0.000000\nSDDSRVYR     0.000000\nRIDSTATR     0.000000\nRIAGENDR     0.000000\nRIDAGEYR     0.000000\nRIDAGEMN    93.385749\nRIDRETH1     0.000000\nRIDRETH3     0.000000\nRIDEXMON     3.557740\nRIDEXAGM    58.594595\nDMQMILIZ    38.466830\nDMQADFC     94.663391\nDMDBORN4     0.000000\nDMDCITZN     0.039312\nDMDYRSUS    81.248157\nDMDEDUC3    72.452088\nDMDEDUC2    43.302211\nDMDMARTL    43.302211\nRIDEXPRG    87.135135\nSIALANG      0.000000\nSIAPROXY     0.009828\nSIAINTRP     0.000000\nFIALANG      1.189189\nFIAPROXY     1.189189\nFIAINTRP     1.189189\nMIALANG     28.147420\nMIAPROXY    28.137592\nMIAINTRP    28.127764\nAIALANGA    37.916462\nDMDHHSIZ     0.000000\nDMDFMSIZ     0.000000\nDMDHHSZA     0.000000\nDMDHHSZB     0.000000\nDMDHHSZE     0.000000\nDMDHRGND     0.000000\nDMDHRAGE     0.000000\nDMDHRBR4     2.918919\nDMDHREDU     2.889435\nDMDHRMAR     1.208845\nDMDHSEDU    47.498771\nWTINT2YR     0.000000\nWTMEC2YR     0.000000\nSDMVPSU      0.000000\nSDMVSTRA     0.000000\nINDHHIN2     1.307125\nINDFMIN2     1.208845\nINDFMPIR     7.714988\ndtype: float64"
     },
     "execution_count": 22,
     "metadata": {},
     "output_type": "execute_result"
    }
   ],
   "source": [
    "# calculate the percentage of missing values in each column\n",
    "missing_percentage = (df_demographic.isnull().sum()/(len(df_demographic)))*100"
   ],
   "metadata": {
    "collapsed": false
   }
  },
  {
   "cell_type": "code",
   "execution_count": 23,
   "outputs": [
    {
     "data": {
      "text/plain": "SEQN           0\nWTDRD1         0\nWTDR2D      1152\nDR1DRSTZ       0\nDR1EXMER    1030\n            ... \nDRD370T     4692\nDRD370TQ    8495\nDRD370U     4692\nDRD370UQ    9496\nDRD370V     4693\nLength: 168, dtype: int64"
     },
     "execution_count": 23,
     "metadata": {},
     "output_type": "execute_result"
    }
   ],
   "source": [
    "df_diet.isnull().sum()"
   ],
   "metadata": {
    "collapsed": false
   }
  },
  {
   "cell_type": "code",
   "execution_count": 24,
   "outputs": [
    {
     "data": {
      "text/plain": "SEQN         0.000000\nWTDRD1       0.000000\nWTDR2D      11.739529\nDR1DRSTZ     0.000000\nDR1EXMER    10.496280\n              ...    \nDRD370T     47.814124\nDRD370TQ    86.568837\nDRD370U     47.814124\nDRD370UQ    96.769591\nDRD370V     47.824315\nLength: 168, dtype: float64"
     },
     "execution_count": 24,
     "metadata": {},
     "output_type": "execute_result"
    }
   ],
   "source": [
    "# percentage of missing values in each column\n",
    "(df_diet.isnull().sum()/(len(df_diet)))*100"
   ],
   "metadata": {
    "collapsed": false
   }
  },
  {
   "cell_type": "code",
   "execution_count": 25,
   "outputs": [
    {
     "data": {
      "text/plain": "SEQN           0\nPEASCST1       0\nPEASCTM1     305\nPEASCCT1    9493\nBPXCHR      7852\n            ... \nCSXSLTRT    8218\nCSXSLTRG    8218\nCSXNART     8200\nCSXNARG     8200\nCSAEFFRT    6276\nLength: 224, dtype: int64"
     },
     "execution_count": 25,
     "metadata": {},
     "output_type": "execute_result"
    }
   ],
   "source": [
    "df_examination.isnull().sum()"
   ],
   "metadata": {
    "collapsed": false
   }
  },
  {
   "cell_type": "code",
   "execution_count": 26,
   "outputs": [
    {
     "data": {
      "text/plain": "SEQN         0.000000\nPEASCST1     0.000000\nPEASCTM1     3.108122\nPEASCCT1    96.739020\nBPXCHR      80.016305\n              ...    \nCSXSLTRT    83.746051\nCSXSLTRG    83.746051\nCSXNART     83.562621\nCSXNARG     83.562621\nCSAEFFRT    63.955977\nLength: 224, dtype: float64"
     },
     "execution_count": 26,
     "metadata": {},
     "output_type": "execute_result"
    }
   ],
   "source": [
    "(df_examination.isnull().sum()/(len(df_examination)))*100"
   ],
   "metadata": {
    "collapsed": false
   }
  },
  {
   "cell_type": "code",
   "execution_count": 27,
   "outputs": [
    {
     "data": {
      "text/plain": "SEQN           0\nURXUMA      1761\nURXUMS      1761\nURXUCR.x    1761\nURXCRS      1761\n            ... \nURDUURLC    7149\nURXPREG     8552\nURXUAS      7151\nLBDB12      4497\nLBDB12SI    4497\nLength: 424, dtype: int64"
     },
     "execution_count": 27,
     "metadata": {},
     "output_type": "execute_result"
    }
   ],
   "source": [
    "df_labs.isnull().sum()"
   ],
   "metadata": {
    "collapsed": false
   }
  },
  {
   "cell_type": "code",
   "execution_count": 28,
   "outputs": [
    {
     "data": {
      "text/plain": "SEQN         0.000000\nURXUMA      17.945582\nURXUMS      17.945582\nURXUCR.x    17.945582\nURXCRS      17.945582\n              ...    \nURDUURLC    72.852339\nURXPREG     87.149699\nURXUAS      72.872720\nLBDB12      45.826964\nLBDB12SI    45.826964\nLength: 424, dtype: float64"
     },
     "execution_count": 28,
     "metadata": {},
     "output_type": "execute_result"
    }
   ],
   "source": [
    "(df_labs.isnull().sum()/(len(df_labs)))*100"
   ],
   "metadata": {
    "collapsed": false
   }
  },
  {
   "cell_type": "code",
   "execution_count": 29,
   "outputs": [
    {
     "data": {
      "text/plain": "SEQN          0\nMCQ160L    4406\nMCQ220     4406\ndtype: int64"
     },
     "execution_count": 29,
     "metadata": {},
     "output_type": "execute_result"
    }
   ],
   "source": [
    "df_questionnaire.isnull().sum()"
   ],
   "metadata": {
    "collapsed": false
   }
  },
  {
   "cell_type": "code",
   "execution_count": 30,
   "outputs": [
    {
     "data": {
      "text/plain": "SEQN        0.000000\nMCQ160L    43.302211\nMCQ220     43.302211\ndtype: float64"
     },
     "execution_count": 30,
     "metadata": {},
     "output_type": "execute_result"
    }
   ],
   "source": [
    "(df_questionnaire.isnull().sum()/(len(df_questionnaire)))*100"
   ],
   "metadata": {
    "collapsed": false
   }
  },
  {
   "cell_type": "markdown",
   "source": [
    "<span style=\"color:orange\">2.6- check duplicates</span>"
   ],
   "metadata": {
    "collapsed": false
   }
  },
  {
   "cell_type": "code",
   "execution_count": 31,
   "outputs": [
    {
     "data": {
      "text/plain": "SEQN        10175\nSDDSRVYR        1\nRIDSTATR        2\nRIAGENDR        2\nRIDAGEYR       81\nRIDAGEMN       25\nRIDRETH1        5\nRIDRETH3        6\nRIDEXMON        2\nRIDEXAGM      240\nDMQMILIZ        3\nDMQADFC         3\nDMDBORN4        4\nDMDCITZN        4\nDMDYRSUS       11\nDMDEDUC3       19\nDMDEDUC2        7\nDMDMARTL        8\nRIDEXPRG        3\nSIALANG         2\nSIAPROXY        2\nSIAINTRP        2\nFIALANG         2\nFIAPROXY        2\nFIAINTRP        2\nMIALANG         2\nMIAPROXY        2\nMIAINTRP        2\nAIALANGA        3\nDMDHHSIZ        7\nDMDFMSIZ        7\nDMDHHSZA        4\nDMDHHSZB        5\nDMDHHSZE        4\nDMDHRGND        2\nDMDHRAGE       63\nDMDHRBR4        3\nDMDHREDU        7\nDMDHRMAR        8\nDMDHSEDU        7\nWTINT2YR     7076\nWTMEC2YR     8170\nSDMVPSU         2\nSDMVSTRA       15\nINDHHIN2       16\nINDFMIN2       16\nINDFMPIR      440\ndtype: int64"
     },
     "execution_count": 31,
     "metadata": {},
     "output_type": "execute_result"
    }
   ],
   "source": [
    "df_demographic.nunique()"
   ],
   "metadata": {
    "collapsed": false
   }
  },
  {
   "cell_type": "code",
   "execution_count": 32,
   "outputs": [
    {
     "data": {
      "text/plain": "SEQN        9813\nWTDRD1      7931\nWTDR2D      7123\nDR1DRSTZ       4\nDR1EXMER      12\n            ... \nDRD370T        2\nDRD370TQ      17\nDRD370U        2\nDRD370UQ      15\nDRD370V        1\nLength: 168, dtype: int64"
     },
     "execution_count": 32,
     "metadata": {},
     "output_type": "execute_result"
    }
   ],
   "source": [
    "df_diet.nunique()"
   ],
   "metadata": {
    "collapsed": false
   }
  },
  {
   "cell_type": "code",
   "execution_count": 33,
   "outputs": [
    {
     "data": {
      "text/plain": "SEQN        9813\nPEASCST1       3\nPEASCTM1    1155\nPEASCCT1      12\nBPXCHR        58\n            ... \nCSXSLTRT      98\nCSXSLTRG       5\nCSXNART       97\nCSXNARG        5\nCSAEFFRT       5\nLength: 224, dtype: int64"
     },
     "execution_count": 33,
     "metadata": {},
     "output_type": "execute_result"
    }
   ],
   "source": [
    "df_examination.nunique()"
   ],
   "metadata": {
    "collapsed": false
   }
  },
  {
   "cell_type": "code",
   "execution_count": 34,
   "outputs": [
    {
     "data": {
      "text/plain": "SEQN        9813\nURXUMA       628\nURXUMS       628\nURXUCR.x     408\nURXCRS       408\n            ... \nURDUURLC       2\nURXPREG        3\nURXUAS      1524\nLBDB12      1065\nLBDB12SI    1065\nLength: 424, dtype: int64"
     },
     "execution_count": 34,
     "metadata": {},
     "output_type": "execute_result"
    }
   ],
   "source": [
    "df_labs.nunique()"
   ],
   "metadata": {
    "collapsed": false
   }
  },
  {
   "cell_type": "code",
   "execution_count": 35,
   "outputs": [
    {
     "data": {
      "text/plain": "SEQN       10175\nMCQ160L        3\nMCQ220         2\ndtype: int64"
     },
     "execution_count": 35,
     "metadata": {},
     "output_type": "execute_result"
    }
   ],
   "source": [
    "df_questionnaire.nunique()"
   ],
   "metadata": {
    "collapsed": false
   }
  }
 ],
 "metadata": {
  "kernelspec": {
   "display_name": "Python 3",
   "language": "python",
   "name": "python3"
  },
  "language_info": {
   "codemirror_mode": {
    "name": "ipython",
    "version": 2
   },
   "file_extension": ".py",
   "mimetype": "text/x-python",
   "name": "python",
   "nbconvert_exporter": "python",
   "pygments_lexer": "ipython2",
   "version": "2.7.6"
  }
 },
 "nbformat": 4,
 "nbformat_minor": 0
}
